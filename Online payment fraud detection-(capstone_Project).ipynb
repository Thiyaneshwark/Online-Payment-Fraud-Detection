{
 "cells": [
  {
   "cell_type": "markdown",
   "id": "6d025df9",
   "metadata": {},
   "source": [
    "# Online Payment Fraud Detection\n",
    "##### Problem Statement:\n",
    "Online payment fraud detection is a common problem that banking sector and businesses facing when processing payments online. The goal is to detect fraudulent transactions or not a fraudulent transactions.\n",
    " \n",
    "\n",
    " #### Transaction Monitoring: \n",
    " This involves using machine learning algorithms to analyze transactions in real-time, looking for patterns or anomalies that may indicate fraud. For example, a sudden increase in the number of transactions or a change in transaction patterns may indicate fraudulent activity.     \n",
    "\n",
    " Hence, inorder to identify online payment fraud with machine learning, we need to train a machine learning model for classifying fraudulent and non-fraudulent payments."
   ]
  },
  {
   "cell_type": "markdown",
   "id": "947b3309",
   "metadata": {},
   "source": [
    "### About Dataset:\n",
    "There are 1048575 rows and 11 columns in our dataset.\n",
    "\n",
    "###### step : Represents a unit of time where 1 step equals 1 hour   \n",
    "###### type : Type of online transaction and In this type column there have Five type of transactions are:\n",
    "                CASH-IN: This type of transaction indicates that cash has been deposited into the account. It increases the balance of the account holder.\n",
    "                CASH-OUT: This type of transaction represents a cash withdrawal from the account. It decreases the balance of the account holder.\n",
    "                DEBIT: A \"DEBIT\" transaction signifies a payment made from the account holder's account to another account. In this case, the transaction also involves reducing the balance of the account holder (sender). However, the key difference is that the recipient of the funds is an internal account within the same financial institution. It is essentially a transfer of funds between accounts owned by the same customer or financial entity.\n",
    "                PAYMENT: A \"PAYMENT\" transaction represents a payment made by the account holder to another account. In this type of transaction, the account holder (sender) is transferring money from their account to a different account, which could be either another customer's account or a business account. The transaction decreases the balance of the account holder (sender) as they are paying someone else.\n",
    "                TRANSFER: A transfer transaction involves moving funds from one account to another. It may be between accounts of the same customer or different customers.\n",
    "###### amount : The amount of the transaction \n",
    "###### nameOrig : Customer starting the transaction  \n",
    "###### oldbalanceOrg : Balance before the transaction  \n",
    "###### newbalanceOrig : Balance after the transaction  \n",
    "###### nameDest : Recipient of the transaction  \n",
    "###### oldbalanceDest : Initial balance of recipient before the transaction     \n",
    "###### newbalanceDest : The new balance of recipient after the transaction    \n",
    "###### isFraud : Fraud transaction    \n",
    "###### isFlaggedFraud : Flagged (assumption) fraud transaction"
   ]
  },
  {
   "cell_type": "markdown",
   "id": "0270896c",
   "metadata": {},
   "source": [
    "### Importing packages"
   ]
  },
  {
   "cell_type": "code",
   "execution_count": 1,
   "id": "a5c71b7c",
   "metadata": {},
   "outputs": [],
   "source": [
    "import numpy as np\n",
    "import pandas as pd\n",
    "import warnings \n",
    "warnings.filterwarnings(\"ignore\")\n",
    "import matplotlib\n",
    "import matplotlib.pyplot as plt\n",
    "from sklearn.utils import resample\n",
    "import seaborn as sns\n",
    "from sklearn.metrics import fbeta_score\n",
    "from sklearn.metrics import confusion_matrix\n",
    "from sklearn.metrics import accuracy_score\n",
    "from sklearn.metrics import recall_score\n",
    "from sklearn.metrics import precision_score\n",
    "from sklearn.metrics import f1_score\n",
    "%matplotlib inline \n",
    "from sklearn.model_selection import train_test_split\n",
    "from sklearn.preprocessing import StandardScaler\n",
    "from sklearn.linear_model import LogisticRegression\n",
    "from sklearn.neighbors import KNeighborsClassifier\n",
    "from sklearn.svm import SVC\n",
    "from sklearn.naive_bayes import GaussianNB\n",
    "from sklearn.tree import DecisionTreeClassifier\n",
    "from sklearn.ensemble import RandomForestClassifier\n",
    "from xgboost import XGBClassifier\n",
    "from sklearn.ensemble import AdaBoostClassifier\n",
    "from xgboost import XGBClassifier"
   ]
  },
  {
   "cell_type": "markdown",
   "id": "3f26b5ae",
   "metadata": {},
   "source": [
    "### Loading Dataset"
   ]
  },
  {
   "cell_type": "code",
   "execution_count": 2,
   "id": "2e9007e3",
   "metadata": {
    "scrolled": true
   },
   "outputs": [],
   "source": [
    "df=pd.read_csv(\"Online Payment Fraud Detection.csv\")"
   ]
  },
  {
   "cell_type": "markdown",
   "id": "2cfd6bf3",
   "metadata": {},
   "source": [
    "##### Processing and Manipulating the Data"
   ]
  },
  {
   "cell_type": "code",
   "execution_count": 3,
   "id": "9446b752",
   "metadata": {
    "scrolled": true
   },
   "outputs": [
    {
     "data": {
      "text/plain": [
       "(1048575, 11)"
      ]
     },
     "execution_count": 3,
     "metadata": {},
     "output_type": "execute_result"
    }
   ],
   "source": [
    "df.shape"
   ]
  },
  {
   "cell_type": "code",
   "execution_count": 4,
   "id": "1bb1cf29",
   "metadata": {},
   "outputs": [
    {
     "data": {
      "text/html": [
       "<div>\n",
       "<style scoped>\n",
       "    .dataframe tbody tr th:only-of-type {\n",
       "        vertical-align: middle;\n",
       "    }\n",
       "\n",
       "    .dataframe tbody tr th {\n",
       "        vertical-align: top;\n",
       "    }\n",
       "\n",
       "    .dataframe thead th {\n",
       "        text-align: right;\n",
       "    }\n",
       "</style>\n",
       "<table border=\"1\" class=\"dataframe\">\n",
       "  <thead>\n",
       "    <tr style=\"text-align: right;\">\n",
       "      <th></th>\n",
       "      <th>step</th>\n",
       "      <th>type</th>\n",
       "      <th>amount</th>\n",
       "      <th>nameOrig</th>\n",
       "      <th>oldbalanceOrg</th>\n",
       "      <th>newbalanceOrig</th>\n",
       "      <th>nameDest</th>\n",
       "      <th>oldbalanceDest</th>\n",
       "      <th>newbalanceDest</th>\n",
       "      <th>isFraud</th>\n",
       "      <th>isFlaggedFraud</th>\n",
       "    </tr>\n",
       "  </thead>\n",
       "  <tbody>\n",
       "    <tr>\n",
       "      <th>0</th>\n",
       "      <td>1</td>\n",
       "      <td>PAYMENT</td>\n",
       "      <td>9839.64</td>\n",
       "      <td>C1231006815</td>\n",
       "      <td>170136.0</td>\n",
       "      <td>160296.36</td>\n",
       "      <td>M1979787155</td>\n",
       "      <td>0.0</td>\n",
       "      <td>0.0</td>\n",
       "      <td>0</td>\n",
       "      <td>0</td>\n",
       "    </tr>\n",
       "    <tr>\n",
       "      <th>1</th>\n",
       "      <td>1</td>\n",
       "      <td>PAYMENT</td>\n",
       "      <td>1864.28</td>\n",
       "      <td>C1666544295</td>\n",
       "      <td>21249.0</td>\n",
       "      <td>19384.72</td>\n",
       "      <td>M2044282225</td>\n",
       "      <td>0.0</td>\n",
       "      <td>0.0</td>\n",
       "      <td>0</td>\n",
       "      <td>0</td>\n",
       "    </tr>\n",
       "    <tr>\n",
       "      <th>2</th>\n",
       "      <td>1</td>\n",
       "      <td>TRANSFER</td>\n",
       "      <td>181.00</td>\n",
       "      <td>C1305486145</td>\n",
       "      <td>181.0</td>\n",
       "      <td>0.00</td>\n",
       "      <td>C553264065</td>\n",
       "      <td>0.0</td>\n",
       "      <td>0.0</td>\n",
       "      <td>1</td>\n",
       "      <td>0</td>\n",
       "    </tr>\n",
       "    <tr>\n",
       "      <th>3</th>\n",
       "      <td>1</td>\n",
       "      <td>CASH_OUT</td>\n",
       "      <td>181.00</td>\n",
       "      <td>C840083671</td>\n",
       "      <td>181.0</td>\n",
       "      <td>0.00</td>\n",
       "      <td>C38997010</td>\n",
       "      <td>NaN</td>\n",
       "      <td>0.0</td>\n",
       "      <td>1</td>\n",
       "      <td>0</td>\n",
       "    </tr>\n",
       "    <tr>\n",
       "      <th>4</th>\n",
       "      <td>1</td>\n",
       "      <td>PAYMENT</td>\n",
       "      <td>11668.14</td>\n",
       "      <td>C2048537720</td>\n",
       "      <td>41554.0</td>\n",
       "      <td>29885.86</td>\n",
       "      <td>M1230701703</td>\n",
       "      <td>0.0</td>\n",
       "      <td>0.0</td>\n",
       "      <td>0</td>\n",
       "      <td>0</td>\n",
       "    </tr>\n",
       "  </tbody>\n",
       "</table>\n",
       "</div>"
      ],
      "text/plain": [
       "   step      type    amount     nameOrig  oldbalanceOrg  newbalanceOrig  \\\n",
       "0     1   PAYMENT   9839.64  C1231006815       170136.0       160296.36   \n",
       "1     1   PAYMENT   1864.28  C1666544295        21249.0        19384.72   \n",
       "2     1  TRANSFER    181.00  C1305486145          181.0            0.00   \n",
       "3     1  CASH_OUT    181.00   C840083671          181.0            0.00   \n",
       "4     1   PAYMENT  11668.14  C2048537720        41554.0        29885.86   \n",
       "\n",
       "      nameDest  oldbalanceDest  newbalanceDest  isFraud  isFlaggedFraud  \n",
       "0  M1979787155             0.0             0.0        0               0  \n",
       "1  M2044282225             0.0             0.0        0               0  \n",
       "2   C553264065             0.0             0.0        1               0  \n",
       "3    C38997010             NaN             0.0        1               0  \n",
       "4  M1230701703             0.0             0.0        0               0  "
      ]
     },
     "execution_count": 4,
     "metadata": {},
     "output_type": "execute_result"
    }
   ],
   "source": [
    "df.head()"
   ]
  },
  {
   "cell_type": "code",
   "execution_count": 5,
   "id": "722dd163",
   "metadata": {},
   "outputs": [
    {
     "data": {
      "text/plain": [
       "step                int64\n",
       "type               object\n",
       "amount            float64\n",
       "nameOrig           object\n",
       "oldbalanceOrg     float64\n",
       "newbalanceOrig    float64\n",
       "nameDest           object\n",
       "oldbalanceDest    float64\n",
       "newbalanceDest    float64\n",
       "isFraud             int64\n",
       "isFlaggedFraud      int64\n",
       "dtype: object"
      ]
     },
     "execution_count": 5,
     "metadata": {},
     "output_type": "execute_result"
    }
   ],
   "source": [
    "df.dtypes"
   ]
  },
  {
   "cell_type": "code",
   "execution_count": 6,
   "id": "7906d4f1",
   "metadata": {},
   "outputs": [
    {
     "data": {
      "text/html": [
       "<div>\n",
       "<style scoped>\n",
       "    .dataframe tbody tr th:only-of-type {\n",
       "        vertical-align: middle;\n",
       "    }\n",
       "\n",
       "    .dataframe tbody tr th {\n",
       "        vertical-align: top;\n",
       "    }\n",
       "\n",
       "    .dataframe thead th {\n",
       "        text-align: right;\n",
       "    }\n",
       "</style>\n",
       "<table border=\"1\" class=\"dataframe\">\n",
       "  <thead>\n",
       "    <tr style=\"text-align: right;\">\n",
       "      <th></th>\n",
       "      <th>step</th>\n",
       "      <th>amount</th>\n",
       "      <th>oldbalanceOrg</th>\n",
       "      <th>newbalanceOrig</th>\n",
       "      <th>oldbalanceDest</th>\n",
       "      <th>newbalanceDest</th>\n",
       "      <th>isFraud</th>\n",
       "      <th>isFlaggedFraud</th>\n",
       "    </tr>\n",
       "  </thead>\n",
       "  <tbody>\n",
       "    <tr>\n",
       "      <th>count</th>\n",
       "      <td>1.048575e+06</td>\n",
       "      <td>1.048574e+06</td>\n",
       "      <td>1.048574e+06</td>\n",
       "      <td>1.048574e+06</td>\n",
       "      <td>1.048529e+06</td>\n",
       "      <td>1.048536e+06</td>\n",
       "      <td>1.048575e+06</td>\n",
       "      <td>1048575.0</td>\n",
       "    </tr>\n",
       "    <tr>\n",
       "      <th>mean</th>\n",
       "      <td>2.696617e+01</td>\n",
       "      <td>1.586671e+05</td>\n",
       "      <td>8.740104e+05</td>\n",
       "      <td>8.938097e+05</td>\n",
       "      <td>9.781449e+05</td>\n",
       "      <td>1.114113e+06</td>\n",
       "      <td>1.089097e-03</td>\n",
       "      <td>0.0</td>\n",
       "    </tr>\n",
       "    <tr>\n",
       "      <th>std</th>\n",
       "      <td>1.562325e+01</td>\n",
       "      <td>2.649410e+05</td>\n",
       "      <td>2.971752e+06</td>\n",
       "      <td>3.008273e+06</td>\n",
       "      <td>2.296742e+06</td>\n",
       "      <td>2.416292e+06</td>\n",
       "      <td>3.298351e-02</td>\n",
       "      <td>0.0</td>\n",
       "    </tr>\n",
       "    <tr>\n",
       "      <th>min</th>\n",
       "      <td>1.000000e+00</td>\n",
       "      <td>1.000000e-01</td>\n",
       "      <td>0.000000e+00</td>\n",
       "      <td>0.000000e+00</td>\n",
       "      <td>0.000000e+00</td>\n",
       "      <td>0.000000e+00</td>\n",
       "      <td>0.000000e+00</td>\n",
       "      <td>0.0</td>\n",
       "    </tr>\n",
       "    <tr>\n",
       "      <th>25%</th>\n",
       "      <td>1.500000e+01</td>\n",
       "      <td>1.214911e+04</td>\n",
       "      <td>0.000000e+00</td>\n",
       "      <td>0.000000e+00</td>\n",
       "      <td>0.000000e+00</td>\n",
       "      <td>0.000000e+00</td>\n",
       "      <td>0.000000e+00</td>\n",
       "      <td>0.0</td>\n",
       "    </tr>\n",
       "    <tr>\n",
       "      <th>50%</th>\n",
       "      <td>2.000000e+01</td>\n",
       "      <td>7.634363e+04</td>\n",
       "      <td>1.600200e+04</td>\n",
       "      <td>0.000000e+00</td>\n",
       "      <td>1.263605e+05</td>\n",
       "      <td>2.182503e+05</td>\n",
       "      <td>0.000000e+00</td>\n",
       "      <td>0.0</td>\n",
       "    </tr>\n",
       "    <tr>\n",
       "      <th>75%</th>\n",
       "      <td>3.900000e+01</td>\n",
       "      <td>2.137619e+05</td>\n",
       "      <td>1.366425e+05</td>\n",
       "      <td>1.746007e+05</td>\n",
       "      <td>9.159430e+05</td>\n",
       "      <td>1.149778e+06</td>\n",
       "      <td>0.000000e+00</td>\n",
       "      <td>0.0</td>\n",
       "    </tr>\n",
       "    <tr>\n",
       "      <th>max</th>\n",
       "      <td>9.500000e+01</td>\n",
       "      <td>1.000000e+07</td>\n",
       "      <td>3.890000e+07</td>\n",
       "      <td>3.890000e+07</td>\n",
       "      <td>4.210000e+07</td>\n",
       "      <td>4.220000e+07</td>\n",
       "      <td>1.000000e+00</td>\n",
       "      <td>0.0</td>\n",
       "    </tr>\n",
       "  </tbody>\n",
       "</table>\n",
       "</div>"
      ],
      "text/plain": [
       "               step        amount  oldbalanceOrg  newbalanceOrig  \\\n",
       "count  1.048575e+06  1.048574e+06   1.048574e+06    1.048574e+06   \n",
       "mean   2.696617e+01  1.586671e+05   8.740104e+05    8.938097e+05   \n",
       "std    1.562325e+01  2.649410e+05   2.971752e+06    3.008273e+06   \n",
       "min    1.000000e+00  1.000000e-01   0.000000e+00    0.000000e+00   \n",
       "25%    1.500000e+01  1.214911e+04   0.000000e+00    0.000000e+00   \n",
       "50%    2.000000e+01  7.634363e+04   1.600200e+04    0.000000e+00   \n",
       "75%    3.900000e+01  2.137619e+05   1.366425e+05    1.746007e+05   \n",
       "max    9.500000e+01  1.000000e+07   3.890000e+07    3.890000e+07   \n",
       "\n",
       "       oldbalanceDest  newbalanceDest       isFraud  isFlaggedFraud  \n",
       "count    1.048529e+06    1.048536e+06  1.048575e+06       1048575.0  \n",
       "mean     9.781449e+05    1.114113e+06  1.089097e-03             0.0  \n",
       "std      2.296742e+06    2.416292e+06  3.298351e-02             0.0  \n",
       "min      0.000000e+00    0.000000e+00  0.000000e+00             0.0  \n",
       "25%      0.000000e+00    0.000000e+00  0.000000e+00             0.0  \n",
       "50%      1.263605e+05    2.182503e+05  0.000000e+00             0.0  \n",
       "75%      9.159430e+05    1.149778e+06  0.000000e+00             0.0  \n",
       "max      4.210000e+07    4.220000e+07  1.000000e+00             0.0  "
      ]
     },
     "execution_count": 6,
     "metadata": {},
     "output_type": "execute_result"
    }
   ],
   "source": [
    "df.describe()"
   ]
  },
  {
   "cell_type": "markdown",
   "id": "a5d94416",
   "metadata": {},
   "source": [
    "##### Finding Null values in the dataset"
   ]
  },
  {
   "cell_type": "code",
   "execution_count": 7,
   "id": "1a33ffe4",
   "metadata": {
    "scrolled": true
   },
   "outputs": [
    {
     "data": {
      "text/plain": [
       "step               0\n",
       "type               0\n",
       "amount             1\n",
       "nameOrig           0\n",
       "oldbalanceOrg      1\n",
       "newbalanceOrig     1\n",
       "nameDest           0\n",
       "oldbalanceDest    46\n",
       "newbalanceDest    39\n",
       "isFraud            0\n",
       "isFlaggedFraud     0\n",
       "dtype: int64"
      ]
     },
     "execution_count": 7,
     "metadata": {},
     "output_type": "execute_result"
    }
   ],
   "source": [
    "df.isnull().sum()"
   ]
  },
  {
   "cell_type": "markdown",
   "id": "b661b6d5",
   "metadata": {},
   "source": [
    "###### Replacing Null value with Median"
   ]
  },
  {
   "cell_type": "code",
   "execution_count": 8,
   "id": "9a9daaa7",
   "metadata": {},
   "outputs": [],
   "source": [
    "median1=df[\"newbalanceDest\"].median()\n",
    "df[\"newbalanceDest\"]=df[\"newbalanceDest\"].replace(np.NaN,median1)"
   ]
  },
  {
   "cell_type": "code",
   "execution_count": 9,
   "id": "e641718a",
   "metadata": {},
   "outputs": [],
   "source": [
    "median2=df[\"oldbalanceDest\"].median()\n",
    "df[\"oldbalanceDest\"]=df[\"oldbalanceDest\"].replace(np.NaN,median2)"
   ]
  },
  {
   "cell_type": "code",
   "execution_count": 10,
   "id": "79bf832f",
   "metadata": {},
   "outputs": [],
   "source": [
    "median3=df[\"amount\"].median()\n",
    "df[\"amount\"]=df[\"amount\"].replace(np.NaN,median3)"
   ]
  },
  {
   "cell_type": "code",
   "execution_count": 11,
   "id": "58be3857",
   "metadata": {},
   "outputs": [],
   "source": [
    "median4=df[\"oldbalanceOrg\"].median()\n",
    "df[\"oldbalanceOrg\"]=df[\"oldbalanceOrg\"].replace(np.NaN,median4)"
   ]
  },
  {
   "cell_type": "code",
   "execution_count": 12,
   "id": "f9050f10",
   "metadata": {},
   "outputs": [],
   "source": [
    "median5=df[\"newbalanceOrig\"].median()\n",
    "df[\"newbalanceOrig\"]=df[\"newbalanceOrig\"].replace(np.NaN,median5)"
   ]
  },
  {
   "cell_type": "code",
   "execution_count": 13,
   "id": "9283092f",
   "metadata": {},
   "outputs": [
    {
     "data": {
      "text/plain": [
       "step              0\n",
       "type              0\n",
       "amount            0\n",
       "nameOrig          0\n",
       "oldbalanceOrg     0\n",
       "newbalanceOrig    0\n",
       "nameDest          0\n",
       "oldbalanceDest    0\n",
       "newbalanceDest    0\n",
       "isFraud           0\n",
       "isFlaggedFraud    0\n",
       "dtype: int64"
      ]
     },
     "execution_count": 13,
     "metadata": {},
     "output_type": "execute_result"
    }
   ],
   "source": [
    "df.isnull().sum()"
   ]
  },
  {
   "cell_type": "markdown",
   "id": "33033676",
   "metadata": {},
   "source": [
    "###### Finding Duplicates"
   ]
  },
  {
   "cell_type": "code",
   "execution_count": 14,
   "id": "5c2c40b0",
   "metadata": {},
   "outputs": [
    {
     "data": {
      "text/plain": [
       "0"
      ]
     },
     "execution_count": 14,
     "metadata": {},
     "output_type": "execute_result"
    }
   ],
   "source": [
    "df.duplicated().sum()"
   ]
  },
  {
   "cell_type": "markdown",
   "id": "c4d62100",
   "metadata": {},
   "source": [
    "\n",
    "###### There is no duplictaes in the dataset"
   ]
  },
  {
   "cell_type": "markdown",
   "id": "b86a90e0",
   "metadata": {},
   "source": [
    "### Exploratory Data Analysis and Visualization\n",
    "###### Univariate Analysis\n",
    "\n",
    "Univariate analysis is used to analyze the data of single variable. Here we will analyze using histplot\n"
   ]
  },
  {
   "cell_type": "code",
   "execution_count": 15,
   "id": "3343b289",
   "metadata": {},
   "outputs": [
    {
     "data": {
      "image/png": "[encoded data removed]",
      "text/plain": [
       "<Figure size 1200x800 with 1 Axes>"
      ]
     },
     "metadata": {},
     "output_type": "display_data"
    }
   ],
   "source": [
    "plot = ['step', 'amount', 'oldbalanceOrg', 'newbalanceOrig', 'oldbalanceDest', 'newbalanceDest']\n",
    "# Create box plots using matplotlib\n",
    "plt.figure(figsize=(12, 8))\n",
    "df[plot].boxplot(sym='r.', vert=False)\n",
    "plt.title('Box Plots for Selected Columns')\n",
    "plt.xlabel('Values')\n",
    "plt.ylabel('Columns')\n",
    "plt.show()"
   ]
  },
  {
   "cell_type": "markdown",
   "id": "2e88dbc2",
   "metadata": {},
   "source": [
    "###### We could see some outliers in the plots. "
   ]
  },
  {
   "cell_type": "markdown",
   "id": "0585ef85",
   "metadata": {},
   "source": [
    "#### Handling outliers\n",
    "###### Now we'll remove the outlier:"
   ]
  },
  {
   "cell_type": "code",
   "execution_count": 16,
   "id": "2a565640",
   "metadata": {},
   "outputs": [],
   "source": [
    "def removeout(col):\n",
    "    sorted(col)\n",
    "    q1,q3=col.quantile([0.25,0.75])\n",
    "    IQR=q3-q1\n",
    "    lr=q1-(1.5*IQR)\n",
    "    ur=q3+(1.5*IQR)\n",
    "    return lr,ur\n",
    "lowlead_time,uplead_time=removeout(df[\"step\"])\n",
    "df[\"step\"]=np.where(df[\"step\"]>uplead_time,uplead_time,df[\"step\"])\n",
    "df[\"step\"]=np.where(df[\"step\"]<lowlead_time,lowlead_time,df[\"step\"])\n",
    "\n",
    "lowlead_time,uplead_time=removeout(df[\"amount\"])\n",
    "df[\"amount\"]=np.where(df[\"amount\"]>uplead_time,uplead_time,df[\"amount\"])\n",
    "df[\"amount\"]=np.where(df[\"amount\"]<lowlead_time,lowlead_time,df[\"amount\"])\n",
    "\n",
    "lowlead_time,uplead_time=removeout(df[\"oldbalanceOrg\"])\n",
    "df[\"oldbalanceOrg\"]=np.where(df[\"oldbalanceOrg\"]>uplead_time,uplead_time,df[\"oldbalanceOrg\"])\n",
    "df[\"oldbalanceOrg\"]=np.where(df[\"oldbalanceOrg\"]<lowlead_time,lowlead_time,df[\"oldbalanceOrg\"])\n",
    "\n",
    "lowlead_time,uplead_time=removeout(df[\"newbalanceOrig\"])\n",
    "df[\"newbalanceOrig\"]=np.where(df[\"newbalanceOrig\"]>uplead_time,uplead_time,df[\"newbalanceOrig\"])\n",
    "df[\"newbalanceOrig\"]=np.where(df[\"newbalanceOrig\"]<lowlead_time,lowlead_time,df[\"newbalanceOrig\"])\n",
    "\n",
    "lowlead_time,uplead_time=removeout(df[\"oldbalanceDest\"])\n",
    "df[\"oldbalanceDest\"]=np.where(df[\"oldbalanceDest\"]>uplead_time,uplead_time,df[\"oldbalanceDest\"])\n",
    "df[\"oldbalanceDest\"]=np.where(df[\"oldbalanceDest\"]<lowlead_time,lowlead_time,df[\"oldbalanceDest\"])\n",
    "\n",
    "lowlead_time,uplead_time=removeout(df[\"newbalanceDest\"])\n",
    "df[\"newbalanceDest\"]=np.where(df[\"newbalanceDest\"]>uplead_time,uplead_time,df[\"newbalanceDest\"])\n",
    "df[\"newbalanceDest\"]=np.where(df[\"newbalanceDest\"]<lowlead_time,lowlead_time,df[\"newbalanceDest\"])"
   ]
  },
  {
   "cell_type": "markdown",
   "id": "88be5770",
   "metadata": {},
   "source": [
    "###### Now we'll take a look at it after removing outliers."
   ]
  },
  {
   "cell_type": "code",
   "execution_count": 17,
   "id": "b7108929",
   "metadata": {},
   "outputs": [
    {
     "data": {
      "image/png": "[encoded data removed]",
      "text/plain": [
       "<Figure size 1200x800 with 1 Axes>"
      ]
     },
     "metadata": {},
     "output_type": "display_data"
    }
   ],
   "source": [
    "# Create box plots using matplotlib\n",
    "plt.figure(figsize=(12, 8))\n",
    "df[plot].boxplot(sym='r.', vert=False)\n",
    "plt.title('Box Plots for Selected Columns')\n",
    "plt.xlabel('Values')\n",
    "plt.ylabel('Columns')\n",
    "plt.show()"
   ]
  },
  {
   "cell_type": "markdown",
   "id": "270566b1",
   "metadata": {},
   "source": [
    "###### 1.Analysing the 'type' column."
   ]
  },
  {
   "cell_type": "code",
   "execution_count": 18,
   "id": "7d7f6218",
   "metadata": {},
   "outputs": [
    {
     "data": {
      "text/plain": [
       "array(['PAYMENT', 'TRANSFER', 'CASH_OUT', 'DEBIT', 'CASH_IN'],\n",
       "      dtype=object)"
      ]
     },
     "execution_count": 18,
     "metadata": {},
     "output_type": "execute_result"
    }
   ],
   "source": [
    "df.type.unique()"
   ]
  },
  {
   "cell_type": "code",
   "execution_count": 19,
   "id": "3bd3159a",
   "metadata": {},
   "outputs": [
    {
     "data": {
      "text/plain": [
       "CASH_OUT    373641\n",
       "PAYMENT     353873\n",
       "CASH_IN     227130\n",
       "TRANSFER     86753\n",
       "DEBIT         7178\n",
       "Name: type, dtype: int64"
      ]
     },
     "execution_count": 19,
     "metadata": {},
     "output_type": "execute_result"
    }
   ],
   "source": [
    "payment = df.type.value_counts()\n",
    "payment"
   ]
  },
  {
   "cell_type": "markdown",
   "id": "54ca18ca",
   "metadata": {},
   "source": [
    "As we have already seen there are 5 types of payment happened.\n",
    "\n",
    "More money has been transacted mostly through cash out followed by payment type.\n",
    "\n",
    "Let's plot it using horizontal bar"
   ]
  },
  {
   "cell_type": "code",
   "execution_count": 20,
   "id": "07888b31",
   "metadata": {},
   "outputs": [
    {
     "data": {
      "text/plain": [
       "<Axes: >"
      ]
     },
     "execution_count": 20,
     "metadata": {},
     "output_type": "execute_result"
    },
    {
     "data": {
      "image/png": "[encoded data removed]",
      "text/plain": [
       "<Figure size 640x480 with 1 Axes>"
      ]
     },
     "metadata": {},
     "output_type": "display_data"
    }
   ],
   "source": [
    "payment.plot(kind='barh',color=\"lightblue\")"
   ]
  },
  {
   "cell_type": "markdown",
   "id": "68e9a199",
   "metadata": {},
   "source": [
    "###### We could see the range of the types(Debit,Transfer,Cash-in,Payment and Cash-out)"
   ]
  },
  {
   "cell_type": "code",
   "execution_count": 21,
   "id": "a74e41f6",
   "metadata": {},
   "outputs": [
    {
     "data": {
      "text/plain": [
       "<Axes: xlabel='type', ylabel='count'>"
      ]
     },
     "execution_count": 21,
     "metadata": {},
     "output_type": "execute_result"
    },
    {
     "data": {
      "image/png": "[encoded data removed]",
      "text/plain": [
       "<Figure size 640x480 with 1 Axes>"
      ]
     },
     "metadata": {},
     "output_type": "display_data"
    }
   ],
   "source": [
    "sns.countplot(x='type', data=df)"
   ]
  },
  {
   "cell_type": "markdown",
   "id": "a448f0a5",
   "metadata": {},
   "source": [
    "###### By this graph we could understand the cash-out has high amount of Transaction and followed by Payment , Cash-in and Transfer"
   ]
  },
  {
   "cell_type": "markdown",
   "id": "c2514f9f",
   "metadata": {},
   "source": [
    "#### relationship with type column with isfraud column"
   ]
  },
  {
   "cell_type": "code",
   "execution_count": 22,
   "id": "0e7027b9",
   "metadata": {},
   "outputs": [
    {
     "data": {
      "text/html": [
       "<div>\n",
       "<style scoped>\n",
       "    .dataframe tbody tr th:only-of-type {\n",
       "        vertical-align: middle;\n",
       "    }\n",
       "\n",
       "    .dataframe tbody tr th {\n",
       "        vertical-align: top;\n",
       "    }\n",
       "\n",
       "    .dataframe thead th {\n",
       "        text-align: right;\n",
       "    }\n",
       "</style>\n",
       "<table border=\"1\" class=\"dataframe\">\n",
       "  <thead>\n",
       "    <tr style=\"text-align: right;\">\n",
       "      <th>isFraud</th>\n",
       "      <th>0</th>\n",
       "      <th>1</th>\n",
       "    </tr>\n",
       "    <tr>\n",
       "      <th>type</th>\n",
       "      <th></th>\n",
       "      <th></th>\n",
       "    </tr>\n",
       "  </thead>\n",
       "  <tbody>\n",
       "    <tr>\n",
       "      <th>CASH_IN</th>\n",
       "      <td>227130</td>\n",
       "      <td>0</td>\n",
       "    </tr>\n",
       "    <tr>\n",
       "      <th>CASH_OUT</th>\n",
       "      <td>373063</td>\n",
       "      <td>578</td>\n",
       "    </tr>\n",
       "    <tr>\n",
       "      <th>DEBIT</th>\n",
       "      <td>7178</td>\n",
       "      <td>0</td>\n",
       "    </tr>\n",
       "    <tr>\n",
       "      <th>PAYMENT</th>\n",
       "      <td>353873</td>\n",
       "      <td>0</td>\n",
       "    </tr>\n",
       "    <tr>\n",
       "      <th>TRANSFER</th>\n",
       "      <td>86189</td>\n",
       "      <td>564</td>\n",
       "    </tr>\n",
       "  </tbody>\n",
       "</table>\n",
       "</div>"
      ],
      "text/plain": [
       "isFraud        0    1\n",
       "type                 \n",
       "CASH_IN   227130    0\n",
       "CASH_OUT  373063  578\n",
       "DEBIT       7178    0\n",
       "PAYMENT   353873    0\n",
       "TRANSFER   86189  564"
      ]
     },
     "execution_count": 22,
     "metadata": {},
     "output_type": "execute_result"
    }
   ],
   "source": [
    "cross_tab_result=pd.crosstab(index=df.type,columns=df.isFraud)\n",
    "cross_tab_result"
   ]
  },
  {
   "cell_type": "code",
   "execution_count": 23,
   "id": "8b674e87",
   "metadata": {},
   "outputs": [
    {
     "data": {
      "text/plain": [
       "type\n",
       "CASH_IN       0\n",
       "CASH_OUT    578\n",
       "DEBIT         0\n",
       "PAYMENT       0\n",
       "TRANSFER    564\n",
       "Name: 1, dtype: int64"
      ]
     },
     "execution_count": 23,
     "metadata": {},
     "output_type": "execute_result"
    }
   ],
   "source": [
    "cross_tab_result[1]"
   ]
  },
  {
   "cell_type": "markdown",
   "id": "f3141255",
   "metadata": {},
   "source": [
    "###### We can see that fraud occurred mostly while during transfer andcashout"
   ]
  },
  {
   "cell_type": "code",
   "execution_count": 24,
   "id": "1321eb13",
   "metadata": {},
   "outputs": [
    {
     "data": {
      "text/plain": [
       "<Axes: xlabel='type'>"
      ]
     },
     "execution_count": 24,
     "metadata": {},
     "output_type": "execute_result"
    },
    {
     "data": {
      "image/png": "[encoded data removed]",
      "text/plain": [
       "<Figure size 700x400 with 1 Axes>"
      ]
     },
     "metadata": {},
     "output_type": "display_data"
    }
   ],
   "source": [
    "cross_tab_result.plot.bar(figsize=(7,4), rot=0)"
   ]
  },
  {
   "cell_type": "markdown",
   "id": "50799e3a",
   "metadata": {},
   "source": [
    "#####  we could see there is an Fraud occurance in the Cash-out and Transfer type of transactions."
   ]
  },
  {
   "cell_type": "code",
   "execution_count": 25,
   "id": "5eafc5ce",
   "metadata": {
    "scrolled": true
   },
   "outputs": [
    {
     "data": {
      "text/plain": [
       "<Axes: xlabel='type'>"
      ]
     },
     "execution_count": 25,
     "metadata": {},
     "output_type": "execute_result"
    },
    {
     "data": {
      "image/png": "[encoded data removed]",
      "text/plain": [
       "<Figure size 700x400 with 1 Axes>"
      ]
     },
     "metadata": {},
     "output_type": "display_data"
    }
   ],
   "source": [
    "cross_tab_result[1].plot.bar(figsize=(7,4), rot=0,color=\"maroon\")"
   ]
  },
  {
   "cell_type": "markdown",
   "id": "e01ad387",
   "metadata": {},
   "source": [
    "##### By bar-graph we clearly see there is occurance of fraud only in the Cash-out and Transfer type and also count of the fraud occurance is:"
   ]
  },
  {
   "cell_type": "code",
   "execution_count": 26,
   "id": "cd0b9715",
   "metadata": {},
   "outputs": [
    {
     "data": {
      "text/html": [
       "<div>\n",
       "<style scoped>\n",
       "    .dataframe tbody tr th:only-of-type {\n",
       "        vertical-align: middle;\n",
       "    }\n",
       "\n",
       "    .dataframe tbody tr th {\n",
       "        vertical-align: top;\n",
       "    }\n",
       "\n",
       "    .dataframe thead th {\n",
       "        text-align: right;\n",
       "    }\n",
       "</style>\n",
       "<table border=\"1\" class=\"dataframe\">\n",
       "  <thead>\n",
       "    <tr style=\"text-align: right;\">\n",
       "      <th>isFraud</th>\n",
       "      <th>0</th>\n",
       "      <th>1</th>\n",
       "    </tr>\n",
       "    <tr>\n",
       "      <th>type</th>\n",
       "      <th></th>\n",
       "      <th></th>\n",
       "    </tr>\n",
       "  </thead>\n",
       "  <tbody>\n",
       "    <tr>\n",
       "      <th>CASH_IN</th>\n",
       "      <td>227130</td>\n",
       "      <td>0</td>\n",
       "    </tr>\n",
       "    <tr>\n",
       "      <th>CASH_OUT</th>\n",
       "      <td>373063</td>\n",
       "      <td>578</td>\n",
       "    </tr>\n",
       "    <tr>\n",
       "      <th>DEBIT</th>\n",
       "      <td>7178</td>\n",
       "      <td>0</td>\n",
       "    </tr>\n",
       "    <tr>\n",
       "      <th>PAYMENT</th>\n",
       "      <td>353873</td>\n",
       "      <td>0</td>\n",
       "    </tr>\n",
       "    <tr>\n",
       "      <th>TRANSFER</th>\n",
       "      <td>86189</td>\n",
       "      <td>564</td>\n",
       "    </tr>\n",
       "  </tbody>\n",
       "</table>\n",
       "</div>"
      ],
      "text/plain": [
       "isFraud        0    1\n",
       "type                 \n",
       "CASH_IN   227130    0\n",
       "CASH_OUT  373063  578\n",
       "DEBIT       7178    0\n",
       "PAYMENT   353873    0\n",
       "TRANSFER   86189  564"
      ]
     },
     "execution_count": 26,
     "metadata": {},
     "output_type": "execute_result"
    }
   ],
   "source": [
    "cross_tab_result"
   ]
  },
  {
   "cell_type": "code",
   "execution_count": 27,
   "id": "4761e029",
   "metadata": {},
   "outputs": [
    {
     "data": {
      "text/plain": [
       "0.18395530726256984"
      ]
     },
     "execution_count": 27,
     "metadata": {},
     "output_type": "execute_result"
    }
   ],
   "source": [
    "cashout= (2233384 + 4116)\n",
    "cashout_fraud= 4116/(cashout) * 100\n",
    "cashout_fraud"
   ]
  },
  {
   "cell_type": "markdown",
   "id": "1d3bb07c",
   "metadata": {},
   "source": [
    "###### 0.184 % denotes the percentage of fraud happened in total cashout mode type, which is very less%"
   ]
  },
  {
   "cell_type": "code",
   "execution_count": 28,
   "id": "96a9e464",
   "metadata": {},
   "outputs": [
    {
     "data": {
      "text/plain": [
       "0.7687991758442811"
      ]
     },
     "execution_count": 28,
     "metadata": {},
     "output_type": "execute_result"
    }
   ],
   "source": [
    "transfer= 528812+4097\n",
    "transfer_fraud = 4097/(transfer) * 100\n",
    "transfer_fraud"
   ]
  },
  {
   "cell_type": "markdown",
   "id": "5a93a214",
   "metadata": {},
   "source": [
    "###### 0.769 % denotes the percentage of fraud happened in total tranfer mode type, which is very also less%"
   ]
  },
  {
   "cell_type": "markdown",
   "id": "31b8a9eb",
   "metadata": {},
   "source": [
    "#### 3. Let's see amount column"
   ]
  },
  {
   "cell_type": "code",
   "execution_count": 29,
   "id": "f91e5d67",
   "metadata": {},
   "outputs": [
    {
     "data": {
      "text/plain": [
       "0            9839.64\n",
       "1            1864.28\n",
       "2             181.00\n",
       "3             181.00\n",
       "4           11668.14\n",
       "             ...    \n",
       "1048570    132557.35\n",
       "1048571      9917.36\n",
       "1048572     14140.05\n",
       "1048573     10020.05\n",
       "1048574     11450.03\n",
       "Name: amount, Length: 1048575, dtype: float64"
      ]
     },
     "execution_count": 29,
     "metadata": {},
     "output_type": "execute_result"
    }
   ],
   "source": [
    "df.amount"
   ]
  },
  {
   "cell_type": "markdown",
   "id": "2fb39d6c",
   "metadata": {},
   "source": [
    "###### 4 .Let's check the minimum and maximum range amount."
   ]
  },
  {
   "cell_type": "code",
   "execution_count": 30,
   "id": "ee92f042",
   "metadata": {},
   "outputs": [
    {
     "name": "stdout",
     "output_type": "stream",
     "text": [
      "Minimum:  0.1\n",
      "Maximum:  516181.0225\n"
     ]
    }
   ],
   "source": [
    "print('Minimum: ',df.amount.min())\n",
    "print('Maximum: ',df.amount.max())"
   ]
  },
  {
   "cell_type": "markdown",
   "id": "69dd7820",
   "metadata": {},
   "source": [
    "###### 5.  Let's check the relationship of amount column with isFraud column"
   ]
  },
  {
   "cell_type": "code",
   "execution_count": 32,
   "id": "86621ef6",
   "metadata": {
    "scrolled": true
   },
   "outputs": [
    {
     "data": {
      "text/plain": [
       "<Axes: title={'center': 'amount'}, xlabel='isFraud'>"
      ]
     },
     "execution_count": 32,
     "metadata": {},
     "output_type": "execute_result"
    },
    {
     "data": {
      "image/png": "[encoded data removed]",
      "text/plain": [
       "<Figure size 640x480 with 1 Axes>"
      ]
     },
     "metadata": {},
     "output_type": "display_data"
    }
   ],
   "source": [
    "df.boxplot(column='amount', by='isFraud',color=\"olive\")"
   ]
  },
  {
   "cell_type": "markdown",
   "id": "ed2bb3a8",
   "metadata": {},
   "source": [
    "##### Fraud amount transaction range is between 1.3-3.6 lakh"
   ]
  },
  {
   "cell_type": "code",
   "execution_count": 33,
   "id": "ab908c09",
   "metadata": {},
   "outputs": [
    {
     "data": {
      "text/plain": [
       "1142"
      ]
     },
     "execution_count": 33,
     "metadata": {},
     "output_type": "execute_result"
    }
   ],
   "source": [
    "total_fraud= df[df.isFraud ==1]\n",
    "total_fraud = total_fraud.shape[0]\n",
    "total_fraud"
   ]
  },
  {
   "cell_type": "code",
   "execution_count": 34,
   "id": "9861f352",
   "metadata": {},
   "outputs": [
    {
     "data": {
      "text/plain": [
       "0.10890971079798775"
      ]
     },
     "execution_count": 34,
     "metadata": {},
     "output_type": "execute_result"
    }
   ],
   "source": [
    "total_transactions = df.shape[0]\n",
    "\n",
    "fraud_transaction = df[df.isFraud==1].shape[0]\n",
    "\n",
    "fraud_percent= fraud_transaction/total_transactions * 100\n",
    "fraud_percent"
   ]
  },
  {
   "cell_type": "code",
   "execution_count": 35,
   "id": "83fd4c69",
   "metadata": {},
   "outputs": [
    {
     "name": "stdout",
     "output_type": "stream",
     "text": [
      "Total transactions:  1048575\n",
      "Total fraud transactions happened:  1142\n",
      "Total fraud transaction percent:  0.11\n"
     ]
    }
   ],
   "source": [
    "print('Total transactions: ',total_transactions)\n",
    "print('Total fraud transactions happened: ',fraud_transaction)\n",
    "print(\"Total fraud transaction percent: \",round(fraud_percent,2))"
   ]
  },
  {
   "cell_type": "code",
   "execution_count": 36,
   "id": "1a5a83d3",
   "metadata": {},
   "outputs": [
    {
     "data": {
      "text/html": [
       "<div>\n",
       "<style scoped>\n",
       "    .dataframe tbody tr th:only-of-type {\n",
       "        vertical-align: middle;\n",
       "    }\n",
       "\n",
       "    .dataframe tbody tr th {\n",
       "        vertical-align: top;\n",
       "    }\n",
       "\n",
       "    .dataframe thead th {\n",
       "        text-align: right;\n",
       "    }\n",
       "</style>\n",
       "<table border=\"1\" class=\"dataframe\">\n",
       "  <thead>\n",
       "    <tr style=\"text-align: right;\">\n",
       "      <th></th>\n",
       "      <th>step</th>\n",
       "      <th>type</th>\n",
       "      <th>amount</th>\n",
       "      <th>nameOrig</th>\n",
       "      <th>oldbalanceOrg</th>\n",
       "      <th>newbalanceOrig</th>\n",
       "      <th>nameDest</th>\n",
       "      <th>oldbalanceDest</th>\n",
       "      <th>newbalanceDest</th>\n",
       "      <th>isFraud</th>\n",
       "      <th>isFlaggedFraud</th>\n",
       "    </tr>\n",
       "  </thead>\n",
       "  <tbody>\n",
       "    <tr>\n",
       "      <th>1025194</th>\n",
       "      <td>48.0</td>\n",
       "      <td>CASH_OUT</td>\n",
       "      <td>516181.0225</td>\n",
       "      <td>C274359236</td>\n",
       "      <td>341605.05</td>\n",
       "      <td>0.0</td>\n",
       "      <td>C1653022223</td>\n",
       "      <td>2289742.05</td>\n",
       "      <td>2874338.675</td>\n",
       "      <td>1</td>\n",
       "      <td>0</td>\n",
       "    </tr>\n",
       "    <tr>\n",
       "      <th>1030596</th>\n",
       "      <td>75.0</td>\n",
       "      <td>CASH_OUT</td>\n",
       "      <td>516181.0225</td>\n",
       "      <td>C1566688012</td>\n",
       "      <td>341605.05</td>\n",
       "      <td>0.0</td>\n",
       "      <td>C1361631138</td>\n",
       "      <td>0.00</td>\n",
       "      <td>959018.790</td>\n",
       "      <td>1</td>\n",
       "      <td>0</td>\n",
       "    </tr>\n",
       "    <tr>\n",
       "      <th>875332</th>\n",
       "      <td>42.0</td>\n",
       "      <td>TRANSFER</td>\n",
       "      <td>516181.0225</td>\n",
       "      <td>C1883768704</td>\n",
       "      <td>341605.05</td>\n",
       "      <td>0.0</td>\n",
       "      <td>C1982874632</td>\n",
       "      <td>0.00</td>\n",
       "      <td>0.000</td>\n",
       "      <td>1</td>\n",
       "      <td>0</td>\n",
       "    </tr>\n",
       "    <tr>\n",
       "      <th>875333</th>\n",
       "      <td>42.0</td>\n",
       "      <td>CASH_OUT</td>\n",
       "      <td>516181.0225</td>\n",
       "      <td>C253446049</td>\n",
       "      <td>341605.05</td>\n",
       "      <td>0.0</td>\n",
       "      <td>C57938337</td>\n",
       "      <td>873589.17</td>\n",
       "      <td>2874338.675</td>\n",
       "      <td>1</td>\n",
       "      <td>0</td>\n",
       "    </tr>\n",
       "    <tr>\n",
       "      <th>899577</th>\n",
       "      <td>42.0</td>\n",
       "      <td>TRANSFER</td>\n",
       "      <td>516181.0225</td>\n",
       "      <td>C373557981</td>\n",
       "      <td>341605.05</td>\n",
       "      <td>0.0</td>\n",
       "      <td>C114416170</td>\n",
       "      <td>0.00</td>\n",
       "      <td>0.000</td>\n",
       "      <td>1</td>\n",
       "      <td>0</td>\n",
       "    </tr>\n",
       "    <tr>\n",
       "      <th>...</th>\n",
       "      <td>...</td>\n",
       "      <td>...</td>\n",
       "      <td>...</td>\n",
       "      <td>...</td>\n",
       "      <td>...</td>\n",
       "      <td>...</td>\n",
       "      <td>...</td>\n",
       "      <td>...</td>\n",
       "      <td>...</td>\n",
       "      <td>...</td>\n",
       "      <td>...</td>\n",
       "    </tr>\n",
       "    <tr>\n",
       "      <th>301801</th>\n",
       "      <td>15.0</td>\n",
       "      <td>TRANSFER</td>\n",
       "      <td>170.0000</td>\n",
       "      <td>C553034695</td>\n",
       "      <td>170.00</td>\n",
       "      <td>0.0</td>\n",
       "      <td>C26381896</td>\n",
       "      <td>0.00</td>\n",
       "      <td>0.000</td>\n",
       "      <td>1</td>\n",
       "      <td>0</td>\n",
       "    </tr>\n",
       "    <tr>\n",
       "      <th>12180</th>\n",
       "      <td>7.0</td>\n",
       "      <td>CASH_OUT</td>\n",
       "      <td>164.0000</td>\n",
       "      <td>C1173659886</td>\n",
       "      <td>164.00</td>\n",
       "      <td>0.0</td>\n",
       "      <td>C1769947269</td>\n",
       "      <td>4068.00</td>\n",
       "      <td>0.000</td>\n",
       "      <td>1</td>\n",
       "      <td>0</td>\n",
       "    </tr>\n",
       "    <tr>\n",
       "      <th>12179</th>\n",
       "      <td>7.0</td>\n",
       "      <td>TRANSFER</td>\n",
       "      <td>164.0000</td>\n",
       "      <td>C1455969984</td>\n",
       "      <td>164.00</td>\n",
       "      <td>0.0</td>\n",
       "      <td>C2119910556</td>\n",
       "      <td>0.00</td>\n",
       "      <td>0.000</td>\n",
       "      <td>1</td>\n",
       "      <td>0</td>\n",
       "    </tr>\n",
       "    <tr>\n",
       "      <th>277266</th>\n",
       "      <td>15.0</td>\n",
       "      <td>CASH_OUT</td>\n",
       "      <td>119.0000</td>\n",
       "      <td>C1584512618</td>\n",
       "      <td>119.00</td>\n",
       "      <td>0.0</td>\n",
       "      <td>C2102058838</td>\n",
       "      <td>2289742.05</td>\n",
       "      <td>2874338.675</td>\n",
       "      <td>1</td>\n",
       "      <td>0</td>\n",
       "    </tr>\n",
       "    <tr>\n",
       "      <th>277265</th>\n",
       "      <td>15.0</td>\n",
       "      <td>TRANSFER</td>\n",
       "      <td>119.0000</td>\n",
       "      <td>C1995557473</td>\n",
       "      <td>119.00</td>\n",
       "      <td>0.0</td>\n",
       "      <td>C1480876722</td>\n",
       "      <td>0.00</td>\n",
       "      <td>0.000</td>\n",
       "      <td>1</td>\n",
       "      <td>0</td>\n",
       "    </tr>\n",
       "  </tbody>\n",
       "</table>\n",
       "<p>1142 rows × 11 columns</p>\n",
       "</div>"
      ],
      "text/plain": [
       "         step      type       amount     nameOrig  oldbalanceOrg  \\\n",
       "1025194  48.0  CASH_OUT  516181.0225   C274359236      341605.05   \n",
       "1030596  75.0  CASH_OUT  516181.0225  C1566688012      341605.05   \n",
       "875332   42.0  TRANSFER  516181.0225  C1883768704      341605.05   \n",
       "875333   42.0  CASH_OUT  516181.0225   C253446049      341605.05   \n",
       "899577   42.0  TRANSFER  516181.0225   C373557981      341605.05   \n",
       "...       ...       ...          ...          ...            ...   \n",
       "301801   15.0  TRANSFER     170.0000   C553034695         170.00   \n",
       "12180     7.0  CASH_OUT     164.0000  C1173659886         164.00   \n",
       "12179     7.0  TRANSFER     164.0000  C1455969984         164.00   \n",
       "277266   15.0  CASH_OUT     119.0000  C1584512618         119.00   \n",
       "277265   15.0  TRANSFER     119.0000  C1995557473         119.00   \n",
       "\n",
       "         newbalanceOrig     nameDest  oldbalanceDest  newbalanceDest  isFraud  \\\n",
       "1025194             0.0  C1653022223      2289742.05     2874338.675        1   \n",
       "1030596             0.0  C1361631138            0.00      959018.790        1   \n",
       "875332              0.0  C1982874632            0.00           0.000        1   \n",
       "875333              0.0    C57938337       873589.17     2874338.675        1   \n",
       "899577              0.0   C114416170            0.00           0.000        1   \n",
       "...                 ...          ...             ...             ...      ...   \n",
       "301801              0.0    C26381896            0.00           0.000        1   \n",
       "12180               0.0  C1769947269         4068.00           0.000        1   \n",
       "12179               0.0  C2119910556            0.00           0.000        1   \n",
       "277266              0.0  C2102058838      2289742.05     2874338.675        1   \n",
       "277265              0.0  C1480876722            0.00           0.000        1   \n",
       "\n",
       "         isFlaggedFraud  \n",
       "1025194               0  \n",
       "1030596               0  \n",
       "875332                0  \n",
       "875333                0  \n",
       "899577                0  \n",
       "...                 ...  \n",
       "301801                0  \n",
       "12180                 0  \n",
       "12179                 0  \n",
       "277266                0  \n",
       "277265                0  \n",
       "\n",
       "[1142 rows x 11 columns]"
      ]
     },
     "execution_count": 36,
     "metadata": {},
     "output_type": "execute_result"
    }
   ],
   "source": [
    "fraud_amount= df[df.isFraud==1]\n",
    "fraud_amount=fraud_amount.sort_values(by=['amount'],ascending=False)\n",
    "fraud_amount"
   ]
  },
  {
   "cell_type": "code",
   "execution_count": 37,
   "id": "e1e83819",
   "metadata": {},
   "outputs": [
    {
     "data": {
      "text/plain": [
       "<Axes: ylabel='Frequency'>"
      ]
     },
     "execution_count": 37,
     "metadata": {},
     "output_type": "execute_result"
    },
    {
     "data": {
      "image/png": "[encoded data removed]",
      "text/plain": [
       "<Figure size 1200x600 with 1 Axes>"
      ]
     },
     "metadata": {},
     "output_type": "display_data"
    }
   ],
   "source": [
    "fraud_amount.amount.plot(kind='hist', bins=15, figsize=(12,6), facecolor='orange',edgecolor='black')"
   ]
  },
  {
   "cell_type": "markdown",
   "id": "4c64eadb",
   "metadata": {},
   "source": [
    "###### We've found that fraud amount transaction ranges between 1.3-3.6 lakh\n",
    "###### Now, we can see that among them most occured were around 340,000-360,000 (3.4-3.6 lakh)"
   ]
  },
  {
   "cell_type": "markdown",
   "id": "7c9794e0",
   "metadata": {},
   "source": [
    "##### 7. Let's see at step column"
   ]
  },
  {
   "cell_type": "code",
   "execution_count": 38,
   "id": "70a0e7e8",
   "metadata": {},
   "outputs": [
    {
     "data": {
      "text/plain": [
       "<Axes: xlabel='step', ylabel='Density'>"
      ]
     },
     "execution_count": 38,
     "metadata": {},
     "output_type": "execute_result"
    },
    {
     "data": {
      "image/png": "[encoded data removed]",
      "text/plain": [
       "<Figure size 1500x600 with 1 Axes>"
      ]
     },
     "metadata": {},
     "output_type": "display_data"
    }
   ],
   "source": [
    "plt.figure(figsize=(15, 6))\n",
    "sns.distplot(df['step'], bins=50)"
   ]
  },
  {
   "cell_type": "markdown",
   "id": "3bb57ee7",
   "metadata": {},
   "source": [
    "##### Distribution of the Step (hour) column"
   ]
  },
  {
   "cell_type": "code",
   "execution_count": 39,
   "id": "31937029",
   "metadata": {},
   "outputs": [
    {
     "data": {
      "image/png": "[encoded data removed]",
      "text/plain": [
       "<Figure size 700x600 with 1 Axes>"
      ]
     },
     "metadata": {},
     "output_type": "display_data"
    }
   ],
   "source": [
    "# Histogram\n",
    "plt.figure(figsize=(7, 6))\n",
    "sns.histplot(df[\"amount\"], kde=True,color=\"orange\")\n",
    "plt.title('Histogram for Amount')\n",
    "plt.xlabel('Values')\n",
    "plt.ylabel('Frequency')\n",
    "plt.show()"
   ]
  },
  {
   "cell_type": "markdown",
   "id": "1dc5f212",
   "metadata": {},
   "source": [
    "###### Histogram is used to shows the distribution of the amount."
   ]
  },
  {
   "cell_type": "code",
   "execution_count": 40,
   "id": "d416862f",
   "metadata": {},
   "outputs": [
    {
     "data": {
      "image/png": "[encoded data removed]",
      "text/plain": [
       "<Figure size 500x500 with 1 Axes>"
      ]
     },
     "metadata": {},
     "output_type": "display_data"
    }
   ],
   "source": [
    "# pie chart\n",
    "labels = df['isFraud'].unique()\n",
    "sizes = (df['isFraud'].value_counts()/df['isFraud'].value_counts().sum())*100\n",
    "sizes = sizes.sort_index(ascending=False)\n",
    "labels = sizes.index\n",
    "plt.figure(figsize=(5,5))\n",
    "colors = ['#E0BBE4', '#957DAD', '#D291BC', '#FEC8D8', '#FFDFD3']\n",
    "plt.pie(sizes,labels=labels, autopct='%1.1f%%', shadow=True, startangle=90, colors=colors)\n",
    "plt.axis('equal')\n",
    "plt.title(\"Distribution of Fraud\")\n",
    "plt.tight_layout()\n",
    "plt.show()"
   ]
  },
  {
   "cell_type": "markdown",
   "id": "1b65d6eb",
   "metadata": {},
   "source": [
    "The resulting pie chart provides an overview of the class distribution in the credit card fraud dataset. Each slice represents a class ('Fraud' or 'Non-Fraud'), and its size corresponds to the proportion of that class in the dataset. The percentage values displayed within each slice indicate the relative occurrence of each class.It takes value 1 in case of fraud and 0 not fraud.\n",
    "\n",
    "which means fraud is 0.1%  and not fraud is 99.9% ."
   ]
  },
  {
   "cell_type": "markdown",
   "id": "bfbb0c2a",
   "metadata": {},
   "source": [
    "### Bivariate Analysis"
   ]
  },
  {
   "cell_type": "code",
   "execution_count": 41,
   "id": "ba913a00",
   "metadata": {},
   "outputs": [
    {
     "data": {
      "image/png": "[encoded data removed]",
      "text/plain": [
       "<Figure size 640x480 with 1 Axes>"
      ]
     },
     "metadata": {},
     "output_type": "display_data"
    }
   ],
   "source": [
    "s = sns.boxplot( x=\"isFraud\", y=\"amount\", hue=\"isFraud\",data=df, palette=\"PRGn\",showfliers=True)\n",
    "plt.show()"
   ]
  },
  {
   "cell_type": "markdown",
   "id": "1e674153",
   "metadata": {},
   "source": [
    "###### The boxplot allows us to observe the central tendency, variability, and presence of outliers for each class. The left box corresponds to non-fraudulent transactions (isFraud=0), and the right box corresponds to fraudulent transactions (isFraud=1). The whiskers of the boxplots represent the range of typical values for each class, while any individual points beyond the whiskers represent potential outliers in the data. The plot provides a visual comparison of the transaction amounts for both classes and can help identify any significant differences or patterns in the amounts between the two groups.\n",
    "\n",
    "\n",
    "\n",
    "\n"
   ]
  },
  {
   "cell_type": "markdown",
   "id": "3fa105c4",
   "metadata": {},
   "source": [
    "### Multivariate"
   ]
  },
  {
   "cell_type": "code",
   "execution_count": 42,
   "id": "4979ce7f",
   "metadata": {
    "scrolled": true
   },
   "outputs": [
    {
     "data": {
      "text/plain": [
       "<Axes: >"
      ]
     },
     "execution_count": 42,
     "metadata": {},
     "output_type": "execute_result"
    },
    {
     "data": {
      "image/png": "[encoded data removed]",
      "text/plain": [
       "<Figure size 640x480 with 2 Axes>"
      ]
     },
     "metadata": {},
     "output_type": "display_data"
    }
   ],
   "source": [
    "corr = df.corr()\n",
    "sns.heatmap(corr, xticklabels=corr.columns, yticklabels=corr.columns, annot=True, cmap='Blues' ,fmt=\".3f\")"
   ]
  },
  {
   "cell_type": "markdown",
   "id": "92bccc6d",
   "metadata": {},
   "source": [
    "###### There is a high correlation between newbalanceOrig and oldbalanceOrg.\n",
    "\n",
    "Also, between newbalanceDest and oldbalanceDest.\n",
    "\n",
    "Apart from that, we have a relatively high correlation between amount and newbalanceDest and amount with oldbalanceDest"
   ]
  },
  {
   "cell_type": "markdown",
   "id": "95b084a9",
   "metadata": {},
   "source": [
    "#### Data Preprocessing\n",
    "Since the given dataset is highly imbalanced we need to balance the dataset before training our model."
   ]
  },
  {
   "cell_type": "code",
   "execution_count": 43,
   "id": "a78c60ef",
   "metadata": {},
   "outputs": [
    {
     "data": {
      "text/plain": [
       "0    1047433\n",
       "1       1142\n",
       "Name: isFraud, dtype: int64"
      ]
     },
     "execution_count": 43,
     "metadata": {},
     "output_type": "execute_result"
    }
   ],
   "source": [
    "df.isFraud.value_counts()"
   ]
  },
  {
   "cell_type": "code",
   "execution_count": 44,
   "id": "7bf5d04c",
   "metadata": {},
   "outputs": [
    {
     "data": {
      "image/png": "[encoded data removed]",
      "text/plain": [
       "<Figure size 640x480 with 1 Axes>"
      ]
     },
     "metadata": {},
     "output_type": "display_data"
    }
   ],
   "source": [
    "plt.pie(df.isFraud.value_counts(),\n",
    "        autopct='%1.1f%%', pctdistance=0.85)\n",
    "centre_circle = plt.Circle((0, 0), 0.70, fc='white',color=\"black\")\n",
    "fig = plt.gcf()\n",
    "fig.gca().add_artist(centre_circle)\n",
    "plt.show()"
   ]
  },
  {
   "cell_type": "markdown",
   "id": "170c73ce",
   "metadata": {},
   "source": [
    "###### The slices of the donut chart represent the percentage of fraudulent and non-fraudulent transactions, and the inner white circle enhances the chart's visual appeal. The percentage values are also displayed on the chart to provide additional information about the distribution of fraud and non-fraud cases.\n",
    "which means fraud is 0.1% and not fraud is 99.9% ."
   ]
  },
  {
   "cell_type": "code",
   "execution_count": 45,
   "id": "581919f5",
   "metadata": {},
   "outputs": [
    {
     "name": "stdout",
     "output_type": "stream",
     "text": [
      "class 0: (1047433, 11)\n",
      "class 1: (1142, 11)\n"
     ]
    }
   ],
   "source": [
    "# class count\n",
    "class_count_0, class_count_1 = df['isFraud'].value_counts()\n",
    "# Separate class\n",
    "class_0 = df[df['isFraud'] == 0]\n",
    "class_1 = df[df['isFraud'] == 1]\n",
    "print('class 0:', class_0.shape)\n",
    "print('class 1:', class_1.shape)"
   ]
  },
  {
   "cell_type": "markdown",
   "id": "ef2d376b",
   "metadata": {},
   "source": [
    "#### Under Sampling technique"
   ]
  },
  {
   "cell_type": "code",
   "execution_count": 46,
   "id": "62f531ad",
   "metadata": {},
   "outputs": [
    {
     "name": "stdout",
     "output_type": "stream",
     "text": [
      "total class of 1 and0: 0    1142\n",
      "1    1142\n",
      "Name: isFraud, dtype: int64\n"
     ]
    },
    {
     "data": {
      "text/plain": [
       "<Axes: title={'center': 'Target-variable (isFraud)'}>"
      ]
     },
     "execution_count": 46,
     "metadata": {},
     "output_type": "execute_result"
    },
    {
     "data": {
      "image/png": "[encoded data removed]",
      "text/plain": [
       "<Figure size 640x480 with 1 Axes>"
      ]
     },
     "metadata": {},
     "output_type": "display_data"
    }
   ],
   "source": [
    "class_0_under = class_0.sample(class_count_1)\n",
    "df = pd.concat([class_0_under, class_1], axis=0)\n",
    "print(\"total class of 1 and0:\",df['isFraud'].value_counts())\n",
    "df['isFraud'].value_counts().plot(kind='bar', title='Target-variable (isFraud)',color=\"#E8A09A\")"
   ]
  },
  {
   "cell_type": "markdown",
   "id": "2e6b36fa",
   "metadata": {},
   "source": [
    "##### We Balancing the Dataset,\n",
    "The under-sampling technique to balance the class distribution of a binary target variable in a dataset. This technique helps address the problem of imbalanced classification, where one class is significantly underrepresented. After under-sampling, the resulting dataset has an equal number of samples for both classes, and this balanced dataset can be used to train a machine learning model for improved performance in predicting both classes."
   ]
  },
  {
   "cell_type": "code",
   "execution_count": 47,
   "id": "309c409e",
   "metadata": {},
   "outputs": [
    {
     "data": {
      "text/html": [
       "<div>\n",
       "<style scoped>\n",
       "    .dataframe tbody tr th:only-of-type {\n",
       "        vertical-align: middle;\n",
       "    }\n",
       "\n",
       "    .dataframe tbody tr th {\n",
       "        vertical-align: top;\n",
       "    }\n",
       "\n",
       "    .dataframe thead th {\n",
       "        text-align: right;\n",
       "    }\n",
       "</style>\n",
       "<table border=\"1\" class=\"dataframe\">\n",
       "  <thead>\n",
       "    <tr style=\"text-align: right;\">\n",
       "      <th></th>\n",
       "      <th>step</th>\n",
       "      <th>type</th>\n",
       "      <th>amount</th>\n",
       "      <th>nameOrig</th>\n",
       "      <th>oldbalanceOrg</th>\n",
       "      <th>newbalanceOrig</th>\n",
       "      <th>nameDest</th>\n",
       "      <th>oldbalanceDest</th>\n",
       "      <th>newbalanceDest</th>\n",
       "      <th>isFraud</th>\n",
       "      <th>isFlaggedFraud</th>\n",
       "    </tr>\n",
       "  </thead>\n",
       "  <tbody>\n",
       "    <tr>\n",
       "      <th>855974</th>\n",
       "      <td>41.0</td>\n",
       "      <td>CASH_IN</td>\n",
       "      <td>130038.2900</td>\n",
       "      <td>C233811147</td>\n",
       "      <td>310921.00</td>\n",
       "      <td>436499.975</td>\n",
       "      <td>C145219077</td>\n",
       "      <td>53013.47</td>\n",
       "      <td>127732.49</td>\n",
       "      <td>0</td>\n",
       "      <td>0</td>\n",
       "    </tr>\n",
       "    <tr>\n",
       "      <th>695279</th>\n",
       "      <td>36.0</td>\n",
       "      <td>TRANSFER</td>\n",
       "      <td>516181.0225</td>\n",
       "      <td>C2093741059</td>\n",
       "      <td>24488.00</td>\n",
       "      <td>0.000</td>\n",
       "      <td>C1556582837</td>\n",
       "      <td>0.00</td>\n",
       "      <td>753224.57</td>\n",
       "      <td>0</td>\n",
       "      <td>0</td>\n",
       "    </tr>\n",
       "    <tr>\n",
       "      <th>16215</th>\n",
       "      <td>8.0</td>\n",
       "      <td>PAYMENT</td>\n",
       "      <td>11500.8800</td>\n",
       "      <td>C576448068</td>\n",
       "      <td>72434.18</td>\n",
       "      <td>60933.300</td>\n",
       "      <td>M829035073</td>\n",
       "      <td>0.00</td>\n",
       "      <td>0.00</td>\n",
       "      <td>0</td>\n",
       "      <td>0</td>\n",
       "    </tr>\n",
       "    <tr>\n",
       "      <th>1033902</th>\n",
       "      <td>75.0</td>\n",
       "      <td>PAYMENT</td>\n",
       "      <td>5592.3000</td>\n",
       "      <td>C255068655</td>\n",
       "      <td>39910.00</td>\n",
       "      <td>34317.700</td>\n",
       "      <td>M1986772887</td>\n",
       "      <td>0.00</td>\n",
       "      <td>0.00</td>\n",
       "      <td>0</td>\n",
       "      <td>0</td>\n",
       "    </tr>\n",
       "    <tr>\n",
       "      <th>240632</th>\n",
       "      <td>14.0</td>\n",
       "      <td>PAYMENT</td>\n",
       "      <td>743.4500</td>\n",
       "      <td>C132541778</td>\n",
       "      <td>0.00</td>\n",
       "      <td>0.000</td>\n",
       "      <td>M599101032</td>\n",
       "      <td>0.00</td>\n",
       "      <td>0.00</td>\n",
       "      <td>0</td>\n",
       "      <td>0</td>\n",
       "    </tr>\n",
       "    <tr>\n",
       "      <th>...</th>\n",
       "      <td>...</td>\n",
       "      <td>...</td>\n",
       "      <td>...</td>\n",
       "      <td>...</td>\n",
       "      <td>...</td>\n",
       "      <td>...</td>\n",
       "      <td>...</td>\n",
       "      <td>...</td>\n",
       "      <td>...</td>\n",
       "      <td>...</td>\n",
       "      <td>...</td>\n",
       "    </tr>\n",
       "    <tr>\n",
       "      <th>1047888</th>\n",
       "      <td>75.0</td>\n",
       "      <td>CASH_OUT</td>\n",
       "      <td>56745.1400</td>\n",
       "      <td>C526144262</td>\n",
       "      <td>56745.14</td>\n",
       "      <td>0.000</td>\n",
       "      <td>C79051264</td>\n",
       "      <td>51433.88</td>\n",
       "      <td>108179.02</td>\n",
       "      <td>1</td>\n",
       "      <td>0</td>\n",
       "    </tr>\n",
       "    <tr>\n",
       "      <th>1048221</th>\n",
       "      <td>75.0</td>\n",
       "      <td>TRANSFER</td>\n",
       "      <td>33676.5900</td>\n",
       "      <td>C732111322</td>\n",
       "      <td>33676.59</td>\n",
       "      <td>0.000</td>\n",
       "      <td>C1140210295</td>\n",
       "      <td>0.00</td>\n",
       "      <td>0.00</td>\n",
       "      <td>1</td>\n",
       "      <td>0</td>\n",
       "    </tr>\n",
       "    <tr>\n",
       "      <th>1048222</th>\n",
       "      <td>75.0</td>\n",
       "      <td>CASH_OUT</td>\n",
       "      <td>33676.5900</td>\n",
       "      <td>C1000086512</td>\n",
       "      <td>33676.59</td>\n",
       "      <td>0.000</td>\n",
       "      <td>C1759363094</td>\n",
       "      <td>0.00</td>\n",
       "      <td>33676.59</td>\n",
       "      <td>1</td>\n",
       "      <td>0</td>\n",
       "    </tr>\n",
       "    <tr>\n",
       "      <th>1048323</th>\n",
       "      <td>75.0</td>\n",
       "      <td>TRANSFER</td>\n",
       "      <td>87999.2500</td>\n",
       "      <td>C927181710</td>\n",
       "      <td>87999.25</td>\n",
       "      <td>0.000</td>\n",
       "      <td>C757947873</td>\n",
       "      <td>0.00</td>\n",
       "      <td>0.00</td>\n",
       "      <td>1</td>\n",
       "      <td>0</td>\n",
       "    </tr>\n",
       "    <tr>\n",
       "      <th>1048324</th>\n",
       "      <td>75.0</td>\n",
       "      <td>CASH_OUT</td>\n",
       "      <td>87999.2500</td>\n",
       "      <td>C409531429</td>\n",
       "      <td>87999.25</td>\n",
       "      <td>0.000</td>\n",
       "      <td>C1827219533</td>\n",
       "      <td>0.00</td>\n",
       "      <td>87999.25</td>\n",
       "      <td>1</td>\n",
       "      <td>0</td>\n",
       "    </tr>\n",
       "  </tbody>\n",
       "</table>\n",
       "<p>2284 rows × 11 columns</p>\n",
       "</div>"
      ],
      "text/plain": [
       "         step      type       amount     nameOrig  oldbalanceOrg  \\\n",
       "855974   41.0   CASH_IN  130038.2900   C233811147      310921.00   \n",
       "695279   36.0  TRANSFER  516181.0225  C2093741059       24488.00   \n",
       "16215     8.0   PAYMENT   11500.8800   C576448068       72434.18   \n",
       "1033902  75.0   PAYMENT    5592.3000   C255068655       39910.00   \n",
       "240632   14.0   PAYMENT     743.4500   C132541778           0.00   \n",
       "...       ...       ...          ...          ...            ...   \n",
       "1047888  75.0  CASH_OUT   56745.1400   C526144262       56745.14   \n",
       "1048221  75.0  TRANSFER   33676.5900   C732111322       33676.59   \n",
       "1048222  75.0  CASH_OUT   33676.5900  C1000086512       33676.59   \n",
       "1048323  75.0  TRANSFER   87999.2500   C927181710       87999.25   \n",
       "1048324  75.0  CASH_OUT   87999.2500   C409531429       87999.25   \n",
       "\n",
       "         newbalanceOrig     nameDest  oldbalanceDest  newbalanceDest  isFraud  \\\n",
       "855974       436499.975   C145219077        53013.47       127732.49        0   \n",
       "695279            0.000  C1556582837            0.00       753224.57        0   \n",
       "16215         60933.300   M829035073            0.00            0.00        0   \n",
       "1033902       34317.700  M1986772887            0.00            0.00        0   \n",
       "240632            0.000   M599101032            0.00            0.00        0   \n",
       "...                 ...          ...             ...             ...      ...   \n",
       "1047888           0.000    C79051264        51433.88       108179.02        1   \n",
       "1048221           0.000  C1140210295            0.00            0.00        1   \n",
       "1048222           0.000  C1759363094            0.00        33676.59        1   \n",
       "1048323           0.000   C757947873            0.00            0.00        1   \n",
       "1048324           0.000  C1827219533            0.00        87999.25        1   \n",
       "\n",
       "         isFlaggedFraud  \n",
       "855974                0  \n",
       "695279                0  \n",
       "16215                 0  \n",
       "1033902               0  \n",
       "240632                0  \n",
       "...                 ...  \n",
       "1047888               0  \n",
       "1048221               0  \n",
       "1048222               0  \n",
       "1048323               0  \n",
       "1048324               0  \n",
       "\n",
       "[2284 rows x 11 columns]"
      ]
     },
     "execution_count": 47,
     "metadata": {},
     "output_type": "execute_result"
    }
   ],
   "source": [
    "df"
   ]
  },
  {
   "cell_type": "code",
   "execution_count": 48,
   "id": "e94cd69f",
   "metadata": {},
   "outputs": [
    {
     "name": "stdout",
     "output_type": "stream",
     "text": [
      "<class 'pandas.core.frame.DataFrame'>\n",
      "Int64Index: 2284 entries, 855974 to 1048324\n",
      "Data columns (total 11 columns):\n",
      " #   Column          Non-Null Count  Dtype  \n",
      "---  ------          --------------  -----  \n",
      " 0   step            2284 non-null   float64\n",
      " 1   type            2284 non-null   object \n",
      " 2   amount          2284 non-null   float64\n",
      " 3   nameOrig        2284 non-null   object \n",
      " 4   oldbalanceOrg   2284 non-null   float64\n",
      " 5   newbalanceOrig  2284 non-null   float64\n",
      " 6   nameDest        2284 non-null   object \n",
      " 7   oldbalanceDest  2284 non-null   float64\n",
      " 8   newbalanceDest  2284 non-null   float64\n",
      " 9   isFraud         2284 non-null   int64  \n",
      " 10  isFlaggedFraud  2284 non-null   int64  \n",
      "dtypes: float64(6), int64(2), object(3)\n",
      "memory usage: 214.1+ KB\n"
     ]
    }
   ],
   "source": [
    "df.info()"
   ]
  },
  {
   "cell_type": "code",
   "execution_count": 49,
   "id": "6127205d",
   "metadata": {},
   "outputs": [
    {
     "data": {
      "text/plain": [
       "array(['CASH_IN', 'TRANSFER', 'PAYMENT', 'CASH_OUT', 'DEBIT'],\n",
       "      dtype=object)"
      ]
     },
     "execution_count": 49,
     "metadata": {},
     "output_type": "execute_result"
    }
   ],
   "source": [
    "df.type.unique()"
   ]
  },
  {
   "cell_type": "code",
   "execution_count": 50,
   "id": "5553e9c9",
   "metadata": {},
   "outputs": [
    {
     "data": {
      "text/plain": [
       "CASH_OUT    981\n",
       "TRANSFER    655\n",
       "PAYMENT     384\n",
       "CASH_IN     258\n",
       "DEBIT         6\n",
       "Name: type, dtype: int64"
      ]
     },
     "execution_count": 50,
     "metadata": {},
     "output_type": "execute_result"
    }
   ],
   "source": [
    "df[\"type\"].value_counts()"
   ]
  },
  {
   "cell_type": "code",
   "execution_count": 51,
   "id": "22b8200f",
   "metadata": {},
   "outputs": [],
   "source": [
    "df[\"type\"] = df[\"type\"].map({\"CASH_OUT\": 1, \"PAYMENT\": 2, \"CASH_IN\": 3, \"TRANSFER\": 4, \"DEBIT\": 5})"
   ]
  },
  {
   "cell_type": "code",
   "execution_count": 52,
   "id": "d37832cf",
   "metadata": {},
   "outputs": [
    {
     "data": {
      "text/plain": [
       "Index(['step', 'type', 'amount', 'nameOrig', 'oldbalanceOrg', 'newbalanceOrig',\n",
       "       'nameDest', 'oldbalanceDest', 'newbalanceDest', 'isFraud',\n",
       "       'isFlaggedFraud'],\n",
       "      dtype='object')"
      ]
     },
     "execution_count": 52,
     "metadata": {},
     "output_type": "execute_result"
    }
   ],
   "source": [
    "df.columns"
   ]
  },
  {
   "cell_type": "code",
   "execution_count": 53,
   "id": "ba5caa9e",
   "metadata": {},
   "outputs": [],
   "source": [
    "df=df.drop(columns=[\"oldbalanceDest\",\"newbalanceDest\"],axis=True)"
   ]
  },
  {
   "cell_type": "markdown",
   "id": "f28fa10e",
   "metadata": {},
   "source": [
    "we removing the oldbalanceDest and newbalanceDest columns is not much significant to the dataset and also by removing it does not affect dependent varaiable"
   ]
  },
  {
   "cell_type": "code",
   "execution_count": 54,
   "id": "be5f9f5d",
   "metadata": {},
   "outputs": [
    {
     "data": {
      "text/plain": [
       "step              float64\n",
       "type                int64\n",
       "amount            float64\n",
       "nameOrig           object\n",
       "oldbalanceOrg     float64\n",
       "newbalanceOrig    float64\n",
       "nameDest           object\n",
       "isFraud             int64\n",
       "isFlaggedFraud      int64\n",
       "dtype: object"
      ]
     },
     "execution_count": 54,
     "metadata": {},
     "output_type": "execute_result"
    }
   ],
   "source": [
    "df.dtypes"
   ]
  },
  {
   "cell_type": "code",
   "execution_count": 55,
   "id": "8cbcc3e8",
   "metadata": {},
   "outputs": [
    {
     "data": {
      "text/plain": [
       "(2284, 9)"
      ]
     },
     "execution_count": 55,
     "metadata": {},
     "output_type": "execute_result"
    }
   ],
   "source": [
    "df.shape"
   ]
  },
  {
   "cell_type": "code",
   "execution_count": 56,
   "id": "5455e3fb",
   "metadata": {},
   "outputs": [
    {
     "data": {
      "text/html": [
       "<div>\n",
       "<style scoped>\n",
       "    .dataframe tbody tr th:only-of-type {\n",
       "        vertical-align: middle;\n",
       "    }\n",
       "\n",
       "    .dataframe tbody tr th {\n",
       "        vertical-align: top;\n",
       "    }\n",
       "\n",
       "    .dataframe thead th {\n",
       "        text-align: right;\n",
       "    }\n",
       "</style>\n",
       "<table border=\"1\" class=\"dataframe\">\n",
       "  <thead>\n",
       "    <tr style=\"text-align: right;\">\n",
       "      <th></th>\n",
       "      <th>step</th>\n",
       "      <th>type</th>\n",
       "      <th>amount</th>\n",
       "      <th>nameOrig</th>\n",
       "      <th>oldbalanceOrg</th>\n",
       "      <th>newbalanceOrig</th>\n",
       "      <th>nameDest</th>\n",
       "      <th>isFraud</th>\n",
       "      <th>isFlaggedFraud</th>\n",
       "    </tr>\n",
       "  </thead>\n",
       "  <tbody>\n",
       "    <tr>\n",
       "      <th>1047888</th>\n",
       "      <td>75.0</td>\n",
       "      <td>1</td>\n",
       "      <td>56745.14</td>\n",
       "      <td>C526144262</td>\n",
       "      <td>56745.14</td>\n",
       "      <td>0.0</td>\n",
       "      <td>C79051264</td>\n",
       "      <td>1</td>\n",
       "      <td>0</td>\n",
       "    </tr>\n",
       "    <tr>\n",
       "      <th>1048221</th>\n",
       "      <td>75.0</td>\n",
       "      <td>4</td>\n",
       "      <td>33676.59</td>\n",
       "      <td>C732111322</td>\n",
       "      <td>33676.59</td>\n",
       "      <td>0.0</td>\n",
       "      <td>C1140210295</td>\n",
       "      <td>1</td>\n",
       "      <td>0</td>\n",
       "    </tr>\n",
       "    <tr>\n",
       "      <th>1048222</th>\n",
       "      <td>75.0</td>\n",
       "      <td>1</td>\n",
       "      <td>33676.59</td>\n",
       "      <td>C1000086512</td>\n",
       "      <td>33676.59</td>\n",
       "      <td>0.0</td>\n",
       "      <td>C1759363094</td>\n",
       "      <td>1</td>\n",
       "      <td>0</td>\n",
       "    </tr>\n",
       "    <tr>\n",
       "      <th>1048323</th>\n",
       "      <td>75.0</td>\n",
       "      <td>4</td>\n",
       "      <td>87999.25</td>\n",
       "      <td>C927181710</td>\n",
       "      <td>87999.25</td>\n",
       "      <td>0.0</td>\n",
       "      <td>C757947873</td>\n",
       "      <td>1</td>\n",
       "      <td>0</td>\n",
       "    </tr>\n",
       "    <tr>\n",
       "      <th>1048324</th>\n",
       "      <td>75.0</td>\n",
       "      <td>1</td>\n",
       "      <td>87999.25</td>\n",
       "      <td>C409531429</td>\n",
       "      <td>87999.25</td>\n",
       "      <td>0.0</td>\n",
       "      <td>C1827219533</td>\n",
       "      <td>1</td>\n",
       "      <td>0</td>\n",
       "    </tr>\n",
       "  </tbody>\n",
       "</table>\n",
       "</div>"
      ],
      "text/plain": [
       "         step  type    amount     nameOrig  oldbalanceOrg  newbalanceOrig  \\\n",
       "1047888  75.0     1  56745.14   C526144262       56745.14             0.0   \n",
       "1048221  75.0     4  33676.59   C732111322       33676.59             0.0   \n",
       "1048222  75.0     1  33676.59  C1000086512       33676.59             0.0   \n",
       "1048323  75.0     4  87999.25   C927181710       87999.25             0.0   \n",
       "1048324  75.0     1  87999.25   C409531429       87999.25             0.0   \n",
       "\n",
       "            nameDest  isFraud  isFlaggedFraud  \n",
       "1047888    C79051264        1               0  \n",
       "1048221  C1140210295        1               0  \n",
       "1048222  C1759363094        1               0  \n",
       "1048323   C757947873        1               0  \n",
       "1048324  C1827219533        1               0  "
      ]
     },
     "execution_count": 56,
     "metadata": {},
     "output_type": "execute_result"
    }
   ],
   "source": [
    "df.tail()"
   ]
  },
  {
   "cell_type": "code",
   "execution_count": 57,
   "id": "da66b8fa",
   "metadata": {},
   "outputs": [],
   "source": [
    "from sklearn.preprocessing import LabelEncoder\n",
    "le = LabelEncoder()\n",
    "df['nameOrig'] = le.fit_transform(df['nameOrig'])\n",
    "df['nameDest'] = le.fit_transform(df['nameDest'])"
   ]
  },
  {
   "cell_type": "code",
   "execution_count": 58,
   "id": "d250e416",
   "metadata": {},
   "outputs": [
    {
     "data": {
      "text/plain": [
       "(2284, 9)"
      ]
     },
     "execution_count": 58,
     "metadata": {},
     "output_type": "execute_result"
    }
   ],
   "source": [
    "df.shape"
   ]
  },
  {
   "cell_type": "code",
   "execution_count": 59,
   "id": "c8a7ce17",
   "metadata": {
    "scrolled": true
   },
   "outputs": [
    {
     "data": {
      "text/plain": [
       "step              float64\n",
       "type                int64\n",
       "amount            float64\n",
       "nameOrig            int32\n",
       "oldbalanceOrg     float64\n",
       "newbalanceOrig    float64\n",
       "nameDest            int32\n",
       "isFraud             int64\n",
       "isFlaggedFraud      int64\n",
       "dtype: object"
      ]
     },
     "execution_count": 59,
     "metadata": {},
     "output_type": "execute_result"
    }
   ],
   "source": [
    "df.dtypes"
   ]
  },
  {
   "cell_type": "code",
   "execution_count": 60,
   "id": "a37b32b6",
   "metadata": {
    "scrolled": true
   },
   "outputs": [
    {
     "data": {
      "text/html": [
       "<div>\n",
       "<style scoped>\n",
       "    .dataframe tbody tr th:only-of-type {\n",
       "        vertical-align: middle;\n",
       "    }\n",
       "\n",
       "    .dataframe tbody tr th {\n",
       "        vertical-align: top;\n",
       "    }\n",
       "\n",
       "    .dataframe thead th {\n",
       "        text-align: right;\n",
       "    }\n",
       "</style>\n",
       "<table border=\"1\" class=\"dataframe\">\n",
       "  <thead>\n",
       "    <tr style=\"text-align: right;\">\n",
       "      <th></th>\n",
       "      <th>step</th>\n",
       "      <th>type</th>\n",
       "      <th>amount</th>\n",
       "      <th>nameOrig</th>\n",
       "      <th>oldbalanceOrg</th>\n",
       "      <th>newbalanceOrig</th>\n",
       "      <th>nameDest</th>\n",
       "      <th>isFraud</th>\n",
       "      <th>isFlaggedFraud</th>\n",
       "    </tr>\n",
       "  </thead>\n",
       "  <tbody>\n",
       "    <tr>\n",
       "      <th>855974</th>\n",
       "      <td>41.0</td>\n",
       "      <td>3</td>\n",
       "      <td>130038.2900</td>\n",
       "      <td>1349</td>\n",
       "      <td>310921.00</td>\n",
       "      <td>436499.975</td>\n",
       "      <td>420</td>\n",
       "      <td>0</td>\n",
       "      <td>0</td>\n",
       "    </tr>\n",
       "    <tr>\n",
       "      <th>695279</th>\n",
       "      <td>36.0</td>\n",
       "      <td>4</td>\n",
       "      <td>516181.0225</td>\n",
       "      <td>1273</td>\n",
       "      <td>24488.00</td>\n",
       "      <td>0.000</td>\n",
       "      <td>520</td>\n",
       "      <td>0</td>\n",
       "      <td>0</td>\n",
       "    </tr>\n",
       "    <tr>\n",
       "      <th>16215</th>\n",
       "      <td>8.0</td>\n",
       "      <td>2</td>\n",
       "      <td>11500.8800</td>\n",
       "      <td>1784</td>\n",
       "      <td>72434.18</td>\n",
       "      <td>60933.300</td>\n",
       "      <td>2228</td>\n",
       "      <td>0</td>\n",
       "      <td>0</td>\n",
       "    </tr>\n",
       "    <tr>\n",
       "      <th>1033902</th>\n",
       "      <td>75.0</td>\n",
       "      <td>2</td>\n",
       "      <td>5592.3000</td>\n",
       "      <td>1374</td>\n",
       "      <td>39910.00</td>\n",
       "      <td>34317.700</td>\n",
       "      <td>2070</td>\n",
       "      <td>0</td>\n",
       "      <td>0</td>\n",
       "    </tr>\n",
       "    <tr>\n",
       "      <th>240632</th>\n",
       "      <td>14.0</td>\n",
       "      <td>2</td>\n",
       "      <td>743.4500</td>\n",
       "      <td>354</td>\n",
       "      <td>0.00</td>\n",
       "      <td>0.000</td>\n",
       "      <td>2175</td>\n",
       "      <td>0</td>\n",
       "      <td>0</td>\n",
       "    </tr>\n",
       "    <tr>\n",
       "      <th>...</th>\n",
       "      <td>...</td>\n",
       "      <td>...</td>\n",
       "      <td>...</td>\n",
       "      <td>...</td>\n",
       "      <td>...</td>\n",
       "      <td>...</td>\n",
       "      <td>...</td>\n",
       "      <td>...</td>\n",
       "      <td>...</td>\n",
       "    </tr>\n",
       "    <tr>\n",
       "      <th>1047888</th>\n",
       "      <td>75.0</td>\n",
       "      <td>1</td>\n",
       "      <td>56745.1400</td>\n",
       "      <td>1738</td>\n",
       "      <td>56745.14</td>\n",
       "      <td>0.000</td>\n",
       "      <td>1661</td>\n",
       "      <td>1</td>\n",
       "      <td>0</td>\n",
       "    </tr>\n",
       "    <tr>\n",
       "      <th>1048221</th>\n",
       "      <td>75.0</td>\n",
       "      <td>4</td>\n",
       "      <td>33676.5900</td>\n",
       "      <td>1974</td>\n",
       "      <td>33676.59</td>\n",
       "      <td>0.000</td>\n",
       "      <td>151</td>\n",
       "      <td>1</td>\n",
       "      <td>0</td>\n",
       "    </tr>\n",
       "    <tr>\n",
       "      <th>1048222</th>\n",
       "      <td>75.0</td>\n",
       "      <td>1</td>\n",
       "      <td>33676.5900</td>\n",
       "      <td>0</td>\n",
       "      <td>33676.59</td>\n",
       "      <td>0.000</td>\n",
       "      <td>724</td>\n",
       "      <td>1</td>\n",
       "      <td>0</td>\n",
       "    </tr>\n",
       "    <tr>\n",
       "      <th>1048323</th>\n",
       "      <td>75.0</td>\n",
       "      <td>4</td>\n",
       "      <td>87999.2500</td>\n",
       "      <td>2198</td>\n",
       "      <td>87999.25</td>\n",
       "      <td>0.000</td>\n",
       "      <td>1629</td>\n",
       "      <td>1</td>\n",
       "      <td>0</td>\n",
       "    </tr>\n",
       "    <tr>\n",
       "      <th>1048324</th>\n",
       "      <td>75.0</td>\n",
       "      <td>1</td>\n",
       "      <td>87999.2500</td>\n",
       "      <td>1576</td>\n",
       "      <td>87999.25</td>\n",
       "      <td>0.000</td>\n",
       "      <td>790</td>\n",
       "      <td>1</td>\n",
       "      <td>0</td>\n",
       "    </tr>\n",
       "  </tbody>\n",
       "</table>\n",
       "<p>2284 rows × 9 columns</p>\n",
       "</div>"
      ],
      "text/plain": [
       "         step  type       amount  nameOrig  oldbalanceOrg  newbalanceOrig  \\\n",
       "855974   41.0     3  130038.2900      1349      310921.00      436499.975   \n",
       "695279   36.0     4  516181.0225      1273       24488.00           0.000   \n",
       "16215     8.0     2   11500.8800      1784       72434.18       60933.300   \n",
       "1033902  75.0     2    5592.3000      1374       39910.00       34317.700   \n",
       "240632   14.0     2     743.4500       354           0.00           0.000   \n",
       "...       ...   ...          ...       ...            ...             ...   \n",
       "1047888  75.0     1   56745.1400      1738       56745.14           0.000   \n",
       "1048221  75.0     4   33676.5900      1974       33676.59           0.000   \n",
       "1048222  75.0     1   33676.5900         0       33676.59           0.000   \n",
       "1048323  75.0     4   87999.2500      2198       87999.25           0.000   \n",
       "1048324  75.0     1   87999.2500      1576       87999.25           0.000   \n",
       "\n",
       "         nameDest  isFraud  isFlaggedFraud  \n",
       "855974        420        0               0  \n",
       "695279        520        0               0  \n",
       "16215        2228        0               0  \n",
       "1033902      2070        0               0  \n",
       "240632       2175        0               0  \n",
       "...           ...      ...             ...  \n",
       "1047888      1661        1               0  \n",
       "1048221       151        1               0  \n",
       "1048222       724        1               0  \n",
       "1048323      1629        1               0  \n",
       "1048324       790        1               0  \n",
       "\n",
       "[2284 rows x 9 columns]"
      ]
     },
     "execution_count": 60,
     "metadata": {},
     "output_type": "execute_result"
    }
   ],
   "source": [
    "df"
   ]
  },
  {
   "cell_type": "markdown",
   "id": "42382b27",
   "metadata": {},
   "source": [
    "#### Splitting the data into trained data and test data"
   ]
  },
  {
   "cell_type": "code",
   "execution_count": 61,
   "id": "49e90e7f",
   "metadata": {},
   "outputs": [],
   "source": [
    "x = df.drop(columns=[\"isFraud\"],axis=True)\n",
    "y=df[\"isFraud\"]"
   ]
  },
  {
   "cell_type": "code",
   "execution_count": 62,
   "id": "7108024a",
   "metadata": {},
   "outputs": [],
   "source": [
    "x_train, x_test, y_train, y_test = train_test_split(x, y, test_size=0.2, random_state=42)"
   ]
  },
  {
   "cell_type": "markdown",
   "id": "573fc05c",
   "metadata": {},
   "source": [
    "#### Initialize the StandardScaler"
   ]
  },
  {
   "cell_type": "code",
   "execution_count": 63,
   "id": "1eee1028",
   "metadata": {},
   "outputs": [],
   "source": [
    "scaler = StandardScaler()\n",
    "# Fit and transform the scaler on the training data\n",
    "X_train_scaled = scaler.fit_transform(x_train)"
   ]
  },
  {
   "cell_type": "markdown",
   "id": "ca304800",
   "metadata": {},
   "source": [
    "## Model Building"
   ]
  },
  {
   "cell_type": "markdown",
   "id": "66d96933",
   "metadata": {},
   "source": [
    "## <a id=\"61\">AdaBoost</a>"
   ]
  },
  {
   "cell_type": "code",
   "execution_count": 64,
   "id": "a635d028",
   "metadata": {},
   "outputs": [
    {
     "data": {
      "text/html": [
       "<style>#sk-container-id-1 {color: black;background-color: white;}#sk-container-id-1 pre{padding: 0;}#sk-container-id-1 div.sk-toggleable {background-color: white;}#sk-container-id-1 label.sk-toggleable__label {cursor: pointer;display: block;width: 100%;margin-bottom: 0;padding: 0.3em;box-sizing: border-box;text-align: center;}#sk-container-id-1 label.sk-toggleable__label-arrow:before {content: \"▸\";float: left;margin-right: 0.25em;color: #696969;}#sk-container-id-1 label.sk-toggleable__label-arrow:hover:before {color: black;}#sk-container-id-1 div.sk-estimator:hover label.sk-toggleable__label-arrow:before {color: black;}#sk-container-id-1 div.sk-toggleable__content {max-height: 0;max-width: 0;overflow: hidden;text-align: left;background-color: #f0f8ff;}#sk-container-id-1 div.sk-toggleable__content pre {margin: 0.2em;color: black;border-radius: 0.25em;background-color: #f0f8ff;}#sk-container-id-1 input.sk-toggleable__control:checked~div.sk-toggleable__content {max-height: 200px;max-width: 100%;overflow: auto;}#sk-container-id-1 input.sk-toggleable__control:checked~label.sk-toggleable__label-arrow:before {content: \"▾\";}#sk-container-id-1 div.sk-estimator input.sk-toggleable__control:checked~label.sk-toggleable__label {background-color: #d4ebff;}#sk-container-id-1 div.sk-label input.sk-toggleable__control:checked~label.sk-toggleable__label {background-color: #d4ebff;}#sk-container-id-1 input.sk-hidden--visually {border: 0;clip: rect(1px 1px 1px 1px);clip: rect(1px, 1px, 1px, 1px);height: 1px;margin: -1px;overflow: hidden;padding: 0;position: absolute;width: 1px;}#sk-container-id-1 div.sk-estimator {font-family: monospace;background-color: #f0f8ff;border: 1px dotted black;border-radius: 0.25em;box-sizing: border-box;margin-bottom: 0.5em;}#sk-container-id-1 div.sk-estimator:hover {background-color: #d4ebff;}#sk-container-id-1 div.sk-parallel-item::after {content: \"\";width: 100%;border-bottom: 1px solid gray;flex-grow: 1;}#sk-container-id-1 div.sk-label:hover label.sk-toggleable__label {background-color: #d4ebff;}#sk-container-id-1 div.sk-serial::before {content: \"\";position: absolute;border-left: 1px solid gray;box-sizing: border-box;top: 0;bottom: 0;left: 50%;z-index: 0;}#sk-container-id-1 div.sk-serial {display: flex;flex-direction: column;align-items: center;background-color: white;padding-right: 0.2em;padding-left: 0.2em;position: relative;}#sk-container-id-1 div.sk-item {position: relative;z-index: 1;}#sk-container-id-1 div.sk-parallel {display: flex;align-items: stretch;justify-content: center;background-color: white;position: relative;}#sk-container-id-1 div.sk-item::before, #sk-container-id-1 div.sk-parallel-item::before {content: \"\";position: absolute;border-left: 1px solid gray;box-sizing: border-box;top: 0;bottom: 0;left: 50%;z-index: -1;}#sk-container-id-1 div.sk-parallel-item {display: flex;flex-direction: column;z-index: 1;position: relative;background-color: white;}#sk-container-id-1 div.sk-parallel-item:first-child::after {align-self: flex-end;width: 50%;}#sk-container-id-1 div.sk-parallel-item:last-child::after {align-self: flex-start;width: 50%;}#sk-container-id-1 div.sk-parallel-item:only-child::after {width: 0;}#sk-container-id-1 div.sk-dashed-wrapped {border: 1px dashed gray;margin: 0 0.4em 0.5em 0.4em;box-sizing: border-box;padding-bottom: 0.4em;background-color: white;}#sk-container-id-1 div.sk-label label {font-family: monospace;font-weight: bold;display: inline-block;line-height: 1.2em;}#sk-container-id-1 div.sk-label-container {text-align: center;}#sk-container-id-1 div.sk-container {/* jupyter's `normalize.less` sets `[hidden] { display: none; }` but bootstrap.min.css set `[hidden] { display: none !important; }` so we also need the `!important` here to be able to override the default hidden behavior on the sphinx rendered scikit-learn.org. See: https://github.com/scikit-learn/scikit-learn/issues/21755 */display: inline-block !important;position: relative;}#sk-container-id-1 div.sk-text-repr-fallback {display: none;}</style><div id=\"sk-container-id-1\" class=\"sk-top-container\"><div class=\"sk-text-repr-fallback\"><pre>AdaBoostClassifier()</pre><b>In a Jupyter environment, please rerun this cell to show the HTML representation or trust the notebook. <br />On GitHub, the HTML representation is unable to render, please try loading this page with nbviewer.org.</b></div><div class=\"sk-container\" hidden><div class=\"sk-item\"><div class=\"sk-estimator sk-toggleable\"><input class=\"sk-toggleable__control sk-hidden--visually\" id=\"sk-estimator-id-1\" type=\"checkbox\" checked><label for=\"sk-estimator-id-1\" class=\"sk-toggleable__label sk-toggleable__label-arrow\">AdaBoostClassifier</label><div class=\"sk-toggleable__content\"><pre>AdaBoostClassifier()</pre></div></div></div></div></div>"
      ],
      "text/plain": [
       "AdaBoostClassifier()"
      ]
     },
     "execution_count": 64,
     "metadata": {},
     "output_type": "execute_result"
    }
   ],
   "source": [
    "model_1 = AdaBoostClassifier()\n",
    "model_1.fit(X_train_scaled,y_train)"
   ]
  },
  {
   "cell_type": "code",
   "execution_count": 65,
   "id": "d7570aa8",
   "metadata": {},
   "outputs": [
    {
     "data": {
      "text/plain": [
       "0.9627805145046524"
      ]
     },
     "execution_count": 65,
     "metadata": {},
     "output_type": "execute_result"
    }
   ],
   "source": [
    "model_1.score(X_train_scaled,y_train)"
   ]
  },
  {
   "cell_type": "code",
   "execution_count": 66,
   "id": "4683f525",
   "metadata": {},
   "outputs": [
    {
     "data": {
      "text/plain": [
       "0.5032822757111597"
      ]
     },
     "execution_count": 66,
     "metadata": {},
     "output_type": "execute_result"
    }
   ],
   "source": [
    "model_1.score(x_test,y_test)"
   ]
  },
  {
   "cell_type": "code",
   "execution_count": 67,
   "id": "75875eda",
   "metadata": {},
   "outputs": [
    {
     "name": "stdout",
     "output_type": "stream",
     "text": [
      "Confusion Matrix:\n",
      "[[230   0]\n",
      " [227   0]]\n"
     ]
    },
    {
     "data": {
      "image/png": "[encoded data removed]",
      "text/plain": [
       "<Figure size 500x500 with 2 Axes>"
      ]
     },
     "metadata": {},
     "output_type": "display_data"
    }
   ],
   "source": [
    "y_pred = model_1.predict(x_test)\n",
    "\n",
    "# Generate the confusion matrix\n",
    "cm = confusion_matrix(y_test, y_pred)\n",
    "\n",
    "print(\"Confusion Matrix:\")\n",
    "print(cm)\n",
    "plt.figure(figsize=(5, 5))\n",
    "sns.heatmap(cm, annot=True, cmap=\"Blues\")\n",
    "plt.xlabel('Predicted labels')\n",
    "plt.ylabel('True labels')\n",
    "plt.title('Confusion Matrix')\n",
    "plt.show()"
   ]
  },
  {
   "cell_type": "markdown",
   "id": "94478386",
   "metadata": {},
   "source": [
    "## <a id=\"61\">Support Vector Classifier</a>"
   ]
  },
  {
   "cell_type": "code",
   "execution_count": 68,
   "id": "0cf1305e",
   "metadata": {},
   "outputs": [
    {
     "data": {
      "text/html": [
       "<style>#sk-container-id-2 {color: black;background-color: white;}#sk-container-id-2 pre{padding: 0;}#sk-container-id-2 div.sk-toggleable {background-color: white;}#sk-container-id-2 label.sk-toggleable__label {cursor: pointer;display: block;width: 100%;margin-bottom: 0;padding: 0.3em;box-sizing: border-box;text-align: center;}#sk-container-id-2 label.sk-toggleable__label-arrow:before {content: \"▸\";float: left;margin-right: 0.25em;color: #696969;}#sk-container-id-2 label.sk-toggleable__label-arrow:hover:before {color: black;}#sk-container-id-2 div.sk-estimator:hover label.sk-toggleable__label-arrow:before {color: black;}#sk-container-id-2 div.sk-toggleable__content {max-height: 0;max-width: 0;overflow: hidden;text-align: left;background-color: #f0f8ff;}#sk-container-id-2 div.sk-toggleable__content pre {margin: 0.2em;color: black;border-radius: 0.25em;background-color: #f0f8ff;}#sk-container-id-2 input.sk-toggleable__control:checked~div.sk-toggleable__content {max-height: 200px;max-width: 100%;overflow: auto;}#sk-container-id-2 input.sk-toggleable__control:checked~label.sk-toggleable__label-arrow:before {content: \"▾\";}#sk-container-id-2 div.sk-estimator input.sk-toggleable__control:checked~label.sk-toggleable__label {background-color: #d4ebff;}#sk-container-id-2 div.sk-label input.sk-toggleable__control:checked~label.sk-toggleable__label {background-color: #d4ebff;}#sk-container-id-2 input.sk-hidden--visually {border: 0;clip: rect(1px 1px 1px 1px);clip: rect(1px, 1px, 1px, 1px);height: 1px;margin: -1px;overflow: hidden;padding: 0;position: absolute;width: 1px;}#sk-container-id-2 div.sk-estimator {font-family: monospace;background-color: #f0f8ff;border: 1px dotted black;border-radius: 0.25em;box-sizing: border-box;margin-bottom: 0.5em;}#sk-container-id-2 div.sk-estimator:hover {background-color: #d4ebff;}#sk-container-id-2 div.sk-parallel-item::after {content: \"\";width: 100%;border-bottom: 1px solid gray;flex-grow: 1;}#sk-container-id-2 div.sk-label:hover label.sk-toggleable__label {background-color: #d4ebff;}#sk-container-id-2 div.sk-serial::before {content: \"\";position: absolute;border-left: 1px solid gray;box-sizing: border-box;top: 0;bottom: 0;left: 50%;z-index: 0;}#sk-container-id-2 div.sk-serial {display: flex;flex-direction: column;align-items: center;background-color: white;padding-right: 0.2em;padding-left: 0.2em;position: relative;}#sk-container-id-2 div.sk-item {position: relative;z-index: 1;}#sk-container-id-2 div.sk-parallel {display: flex;align-items: stretch;justify-content: center;background-color: white;position: relative;}#sk-container-id-2 div.sk-item::before, #sk-container-id-2 div.sk-parallel-item::before {content: \"\";position: absolute;border-left: 1px solid gray;box-sizing: border-box;top: 0;bottom: 0;left: 50%;z-index: -1;}#sk-container-id-2 div.sk-parallel-item {display: flex;flex-direction: column;z-index: 1;position: relative;background-color: white;}#sk-container-id-2 div.sk-parallel-item:first-child::after {align-self: flex-end;width: 50%;}#sk-container-id-2 div.sk-parallel-item:last-child::after {align-self: flex-start;width: 50%;}#sk-container-id-2 div.sk-parallel-item:only-child::after {width: 0;}#sk-container-id-2 div.sk-dashed-wrapped {border: 1px dashed gray;margin: 0 0.4em 0.5em 0.4em;box-sizing: border-box;padding-bottom: 0.4em;background-color: white;}#sk-container-id-2 div.sk-label label {font-family: monospace;font-weight: bold;display: inline-block;line-height: 1.2em;}#sk-container-id-2 div.sk-label-container {text-align: center;}#sk-container-id-2 div.sk-container {/* jupyter's `normalize.less` sets `[hidden] { display: none; }` but bootstrap.min.css set `[hidden] { display: none !important; }` so we also need the `!important` here to be able to override the default hidden behavior on the sphinx rendered scikit-learn.org. See: https://github.com/scikit-learn/scikit-learn/issues/21755 */display: inline-block !important;position: relative;}#sk-container-id-2 div.sk-text-repr-fallback {display: none;}</style><div id=\"sk-container-id-2\" class=\"sk-top-container\"><div class=\"sk-text-repr-fallback\"><pre>SVC()</pre><b>In a Jupyter environment, please rerun this cell to show the HTML representation or trust the notebook. <br />On GitHub, the HTML representation is unable to render, please try loading this page with nbviewer.org.</b></div><div class=\"sk-container\" hidden><div class=\"sk-item\"><div class=\"sk-estimator sk-toggleable\"><input class=\"sk-toggleable__control sk-hidden--visually\" id=\"sk-estimator-id-2\" type=\"checkbox\" checked><label for=\"sk-estimator-id-2\" class=\"sk-toggleable__label sk-toggleable__label-arrow\">SVC</label><div class=\"sk-toggleable__content\"><pre>SVC()</pre></div></div></div></div></div>"
      ],
      "text/plain": [
       "SVC()"
      ]
     },
     "execution_count": 68,
     "metadata": {},
     "output_type": "execute_result"
    }
   ],
   "source": [
    "model_2=SVC()\n",
    "model_2.fit(X_train_scaled,y_train)"
   ]
  },
  {
   "cell_type": "code",
   "execution_count": 69,
   "id": "c48c50bd",
   "metadata": {},
   "outputs": [
    {
     "data": {
      "text/plain": [
       "0.9490968801313628"
      ]
     },
     "execution_count": 69,
     "metadata": {},
     "output_type": "execute_result"
    }
   ],
   "source": [
    "model_2.score(X_train_scaled,y_train)"
   ]
  },
  {
   "cell_type": "code",
   "execution_count": 70,
   "id": "fccf3373",
   "metadata": {},
   "outputs": [
    {
     "data": {
      "text/plain": [
       "0.49671772428884026"
      ]
     },
     "execution_count": 70,
     "metadata": {},
     "output_type": "execute_result"
    }
   ],
   "source": [
    "model_2.score(x_test,y_test)"
   ]
  },
  {
   "cell_type": "code",
   "execution_count": 71,
   "id": "997d07da",
   "metadata": {},
   "outputs": [
    {
     "name": "stdout",
     "output_type": "stream",
     "text": [
      "Confusion Matrix:\n",
      "[[  0 230]\n",
      " [  0 227]]\n"
     ]
    },
    {
     "data": {
      "image/png": "[encoded data removed]",
      "text/plain": [
       "<Figure size 500x500 with 2 Axes>"
      ]
     },
     "metadata": {},
     "output_type": "display_data"
    }
   ],
   "source": [
    "y_pred = model_2.predict(x_test)\n",
    "\n",
    "# Generate the confusion matrix\n",
    "cm = confusion_matrix(y_test, y_pred)\n",
    "\n",
    "print(\"Confusion Matrix:\")\n",
    "print(cm)\n",
    "plt.figure(figsize=(5, 5))\n",
    "sns.heatmap(cm, annot=True, cmap=\"Blues\")\n",
    "plt.xlabel('Predicted labels')\n",
    "plt.ylabel('True labels')\n",
    "plt.title('Confusion Matrix')\n",
    "plt.show()"
   ]
  },
  {
   "cell_type": "markdown",
   "id": "7a634ab6",
   "metadata": {},
   "source": [
    "## <a id=\"61\">LogisticRegression</a>"
   ]
  },
  {
   "cell_type": "code",
   "execution_count": 72,
   "id": "294b4757",
   "metadata": {},
   "outputs": [
    {
     "data": {
      "text/html": [
       "<style>#sk-container-id-3 {color: black;background-color: white;}#sk-container-id-3 pre{padding: 0;}#sk-container-id-3 div.sk-toggleable {background-color: white;}#sk-container-id-3 label.sk-toggleable__label {cursor: pointer;display: block;width: 100%;margin-bottom: 0;padding: 0.3em;box-sizing: border-box;text-align: center;}#sk-container-id-3 label.sk-toggleable__label-arrow:before {content: \"▸\";float: left;margin-right: 0.25em;color: #696969;}#sk-container-id-3 label.sk-toggleable__label-arrow:hover:before {color: black;}#sk-container-id-3 div.sk-estimator:hover label.sk-toggleable__label-arrow:before {color: black;}#sk-container-id-3 div.sk-toggleable__content {max-height: 0;max-width: 0;overflow: hidden;text-align: left;background-color: #f0f8ff;}#sk-container-id-3 div.sk-toggleable__content pre {margin: 0.2em;color: black;border-radius: 0.25em;background-color: #f0f8ff;}#sk-container-id-3 input.sk-toggleable__control:checked~div.sk-toggleable__content {max-height: 200px;max-width: 100%;overflow: auto;}#sk-container-id-3 input.sk-toggleable__control:checked~label.sk-toggleable__label-arrow:before {content: \"▾\";}#sk-container-id-3 div.sk-estimator input.sk-toggleable__control:checked~label.sk-toggleable__label {background-color: #d4ebff;}#sk-container-id-3 div.sk-label input.sk-toggleable__control:checked~label.sk-toggleable__label {background-color: #d4ebff;}#sk-container-id-3 input.sk-hidden--visually {border: 0;clip: rect(1px 1px 1px 1px);clip: rect(1px, 1px, 1px, 1px);height: 1px;margin: -1px;overflow: hidden;padding: 0;position: absolute;width: 1px;}#sk-container-id-3 div.sk-estimator {font-family: monospace;background-color: #f0f8ff;border: 1px dotted black;border-radius: 0.25em;box-sizing: border-box;margin-bottom: 0.5em;}#sk-container-id-3 div.sk-estimator:hover {background-color: #d4ebff;}#sk-container-id-3 div.sk-parallel-item::after {content: \"\";width: 100%;border-bottom: 1px solid gray;flex-grow: 1;}#sk-container-id-3 div.sk-label:hover label.sk-toggleable__label {background-color: #d4ebff;}#sk-container-id-3 div.sk-serial::before {content: \"\";position: absolute;border-left: 1px solid gray;box-sizing: border-box;top: 0;bottom: 0;left: 50%;z-index: 0;}#sk-container-id-3 div.sk-serial {display: flex;flex-direction: column;align-items: center;background-color: white;padding-right: 0.2em;padding-left: 0.2em;position: relative;}#sk-container-id-3 div.sk-item {position: relative;z-index: 1;}#sk-container-id-3 div.sk-parallel {display: flex;align-items: stretch;justify-content: center;background-color: white;position: relative;}#sk-container-id-3 div.sk-item::before, #sk-container-id-3 div.sk-parallel-item::before {content: \"\";position: absolute;border-left: 1px solid gray;box-sizing: border-box;top: 0;bottom: 0;left: 50%;z-index: -1;}#sk-container-id-3 div.sk-parallel-item {display: flex;flex-direction: column;z-index: 1;position: relative;background-color: white;}#sk-container-id-3 div.sk-parallel-item:first-child::after {align-self: flex-end;width: 50%;}#sk-container-id-3 div.sk-parallel-item:last-child::after {align-self: flex-start;width: 50%;}#sk-container-id-3 div.sk-parallel-item:only-child::after {width: 0;}#sk-container-id-3 div.sk-dashed-wrapped {border: 1px dashed gray;margin: 0 0.4em 0.5em 0.4em;box-sizing: border-box;padding-bottom: 0.4em;background-color: white;}#sk-container-id-3 div.sk-label label {font-family: monospace;font-weight: bold;display: inline-block;line-height: 1.2em;}#sk-container-id-3 div.sk-label-container {text-align: center;}#sk-container-id-3 div.sk-container {/* jupyter's `normalize.less` sets `[hidden] { display: none; }` but bootstrap.min.css set `[hidden] { display: none !important; }` so we also need the `!important` here to be able to override the default hidden behavior on the sphinx rendered scikit-learn.org. See: https://github.com/scikit-learn/scikit-learn/issues/21755 */display: inline-block !important;position: relative;}#sk-container-id-3 div.sk-text-repr-fallback {display: none;}</style><div id=\"sk-container-id-3\" class=\"sk-top-container\"><div class=\"sk-text-repr-fallback\"><pre>LogisticRegression()</pre><b>In a Jupyter environment, please rerun this cell to show the HTML representation or trust the notebook. <br />On GitHub, the HTML representation is unable to render, please try loading this page with nbviewer.org.</b></div><div class=\"sk-container\" hidden><div class=\"sk-item\"><div class=\"sk-estimator sk-toggleable\"><input class=\"sk-toggleable__control sk-hidden--visually\" id=\"sk-estimator-id-3\" type=\"checkbox\" checked><label for=\"sk-estimator-id-3\" class=\"sk-toggleable__label sk-toggleable__label-arrow\">LogisticRegression</label><div class=\"sk-toggleable__content\"><pre>LogisticRegression()</pre></div></div></div></div></div>"
      ],
      "text/plain": [
       "LogisticRegression()"
      ]
     },
     "execution_count": 72,
     "metadata": {},
     "output_type": "execute_result"
    }
   ],
   "source": [
    "model_3 = LogisticRegression()\n",
    "model_3.fit(X_train_scaled,y_train)"
   ]
  },
  {
   "cell_type": "code",
   "execution_count": 73,
   "id": "477fb999",
   "metadata": {},
   "outputs": [
    {
     "data": {
      "text/plain": [
       "0.9074986316365626"
      ]
     },
     "execution_count": 73,
     "metadata": {},
     "output_type": "execute_result"
    }
   ],
   "source": [
    "model_3.score(X_train_scaled,y_train)"
   ]
  },
  {
   "cell_type": "code",
   "execution_count": 74,
   "id": "f2d99503",
   "metadata": {},
   "outputs": [
    {
     "data": {
      "text/plain": [
       "0.8840262582056893"
      ]
     },
     "execution_count": 74,
     "metadata": {},
     "output_type": "execute_result"
    }
   ],
   "source": [
    "model_3.score(x_test,y_test)"
   ]
  },
  {
   "cell_type": "code",
   "execution_count": 75,
   "id": "3a7ea368",
   "metadata": {},
   "outputs": [
    {
     "name": "stdout",
     "output_type": "stream",
     "text": [
      "Confusion Matrix:\n",
      "[[180  50]\n",
      " [  3 224]]\n"
     ]
    },
    {
     "data": {
      "image/png": "[encoded data removed]",
      "text/plain": [
       "<Figure size 500x500 with 2 Axes>"
      ]
     },
     "metadata": {},
     "output_type": "display_data"
    }
   ],
   "source": [
    "y_pred = model_3.predict(x_test)\n",
    "\n",
    "# Generate the confusion matrix\n",
    "cm = confusion_matrix(y_test, y_pred)\n",
    "\n",
    "print(\"Confusion Matrix:\")\n",
    "print(cm)\n",
    "plt.figure(figsize=(5, 5))\n",
    "sns.heatmap(cm, annot=True, cmap=\"Blues\")\n",
    "plt.xlabel('Predicted labels')\n",
    "plt.ylabel('True labels')\n",
    "plt.title('Confusion Matrix')\n",
    "plt.show()"
   ]
  },
  {
   "cell_type": "markdown",
   "id": "4c15b551",
   "metadata": {},
   "source": [
    "## <a id=\"61\">KNeighborsClassifier</a>"
   ]
  },
  {
   "cell_type": "code",
   "execution_count": 76,
   "id": "f3a31880",
   "metadata": {},
   "outputs": [],
   "source": [
    "from sklearn.model_selection import cross_val_score\n",
    "from sklearn import metrics\n",
    "from sklearn.neighbors import KNeighborsClassifier\n",
    "neighbors=list(range(1,10,2))\n",
    "cv_scores=[]\n",
    "for k in neighbors:\n",
    "    knn=KNeighborsClassifier(n_neighbors=k)\n",
    "    scores=cross_val_score(knn,x,y,cv=10,scoring='accuracy')\n",
    "    cv_scores.append(scores.mean())"
   ]
  },
  {
   "cell_type": "code",
   "execution_count": 77,
   "id": "cce87c31",
   "metadata": {},
   "outputs": [
    {
     "data": {
      "text/plain": [
       "[0.036750172374167,\n",
       " 0.02579866697310962,\n",
       " 0.02667777522408643,\n",
       " 0.029307438902934302,\n",
       " 0.03149659082203338]"
      ]
     },
     "execution_count": 77,
     "metadata": {},
     "output_type": "execute_result"
    }
   ],
   "source": [
    "MSE=[1-x for x in cv_scores]\n",
    "MSE"
   ]
  },
  {
   "cell_type": "code",
   "execution_count": 78,
   "id": "b216eabd",
   "metadata": {},
   "outputs": [
    {
     "data": {
      "text/plain": [
       "3"
      ]
     },
     "execution_count": 78,
     "metadata": {},
     "output_type": "execute_result"
    }
   ],
   "source": [
    "optimal_k=neighbors[MSE.index(min(MSE))]\n",
    "optimal_k"
   ]
  },
  {
   "cell_type": "code",
   "execution_count": 79,
   "id": "9b77b711",
   "metadata": {},
   "outputs": [
    {
     "data": {
      "text/plain": [
       "Text(0, 0.5, 'Error')"
      ]
     },
     "execution_count": 79,
     "metadata": {},
     "output_type": "execute_result"
    },
    {
     "data": {
      "image/png": "[encoded data removed]",
      "text/plain": [
       "<Figure size 500x500 with 1 Axes>"
      ]
     },
     "metadata": {},
     "output_type": "display_data"
    }
   ],
   "source": [
    "plt.figure(figsize=(5, 5))\n",
    "plt.plot(neighbors,MSE)\n",
    "plt.xlabel('No.of.k')\n",
    "plt.ylabel('Error')"
   ]
  },
  {
   "cell_type": "code",
   "execution_count": 80,
   "id": "389080bb",
   "metadata": {},
   "outputs": [
    {
     "data": {
      "text/html": [
       "<style>#sk-container-id-4 {color: black;background-color: white;}#sk-container-id-4 pre{padding: 0;}#sk-container-id-4 div.sk-toggleable {background-color: white;}#sk-container-id-4 label.sk-toggleable__label {cursor: pointer;display: block;width: 100%;margin-bottom: 0;padding: 0.3em;box-sizing: border-box;text-align: center;}#sk-container-id-4 label.sk-toggleable__label-arrow:before {content: \"▸\";float: left;margin-right: 0.25em;color: #696969;}#sk-container-id-4 label.sk-toggleable__label-arrow:hover:before {color: black;}#sk-container-id-4 div.sk-estimator:hover label.sk-toggleable__label-arrow:before {color: black;}#sk-container-id-4 div.sk-toggleable__content {max-height: 0;max-width: 0;overflow: hidden;text-align: left;background-color: #f0f8ff;}#sk-container-id-4 div.sk-toggleable__content pre {margin: 0.2em;color: black;border-radius: 0.25em;background-color: #f0f8ff;}#sk-container-id-4 input.sk-toggleable__control:checked~div.sk-toggleable__content {max-height: 200px;max-width: 100%;overflow: auto;}#sk-container-id-4 input.sk-toggleable__control:checked~label.sk-toggleable__label-arrow:before {content: \"▾\";}#sk-container-id-4 div.sk-estimator input.sk-toggleable__control:checked~label.sk-toggleable__label {background-color: #d4ebff;}#sk-container-id-4 div.sk-label input.sk-toggleable__control:checked~label.sk-toggleable__label {background-color: #d4ebff;}#sk-container-id-4 input.sk-hidden--visually {border: 0;clip: rect(1px 1px 1px 1px);clip: rect(1px, 1px, 1px, 1px);height: 1px;margin: -1px;overflow: hidden;padding: 0;position: absolute;width: 1px;}#sk-container-id-4 div.sk-estimator {font-family: monospace;background-color: #f0f8ff;border: 1px dotted black;border-radius: 0.25em;box-sizing: border-box;margin-bottom: 0.5em;}#sk-container-id-4 div.sk-estimator:hover {background-color: #d4ebff;}#sk-container-id-4 div.sk-parallel-item::after {content: \"\";width: 100%;border-bottom: 1px solid gray;flex-grow: 1;}#sk-container-id-4 div.sk-label:hover label.sk-toggleable__label {background-color: #d4ebff;}#sk-container-id-4 div.sk-serial::before {content: \"\";position: absolute;border-left: 1px solid gray;box-sizing: border-box;top: 0;bottom: 0;left: 50%;z-index: 0;}#sk-container-id-4 div.sk-serial {display: flex;flex-direction: column;align-items: center;background-color: white;padding-right: 0.2em;padding-left: 0.2em;position: relative;}#sk-container-id-4 div.sk-item {position: relative;z-index: 1;}#sk-container-id-4 div.sk-parallel {display: flex;align-items: stretch;justify-content: center;background-color: white;position: relative;}#sk-container-id-4 div.sk-item::before, #sk-container-id-4 div.sk-parallel-item::before {content: \"\";position: absolute;border-left: 1px solid gray;box-sizing: border-box;top: 0;bottom: 0;left: 50%;z-index: -1;}#sk-container-id-4 div.sk-parallel-item {display: flex;flex-direction: column;z-index: 1;position: relative;background-color: white;}#sk-container-id-4 div.sk-parallel-item:first-child::after {align-self: flex-end;width: 50%;}#sk-container-id-4 div.sk-parallel-item:last-child::after {align-self: flex-start;width: 50%;}#sk-container-id-4 div.sk-parallel-item:only-child::after {width: 0;}#sk-container-id-4 div.sk-dashed-wrapped {border: 1px dashed gray;margin: 0 0.4em 0.5em 0.4em;box-sizing: border-box;padding-bottom: 0.4em;background-color: white;}#sk-container-id-4 div.sk-label label {font-family: monospace;font-weight: bold;display: inline-block;line-height: 1.2em;}#sk-container-id-4 div.sk-label-container {text-align: center;}#sk-container-id-4 div.sk-container {/* jupyter's `normalize.less` sets `[hidden] { display: none; }` but bootstrap.min.css set `[hidden] { display: none !important; }` so we also need the `!important` here to be able to override the default hidden behavior on the sphinx rendered scikit-learn.org. See: https://github.com/scikit-learn/scikit-learn/issues/21755 */display: inline-block !important;position: relative;}#sk-container-id-4 div.sk-text-repr-fallback {display: none;}</style><div id=\"sk-container-id-4\" class=\"sk-top-container\"><div class=\"sk-text-repr-fallback\"><pre>KNeighborsClassifier(n_neighbors=3)</pre><b>In a Jupyter environment, please rerun this cell to show the HTML representation or trust the notebook. <br />On GitHub, the HTML representation is unable to render, please try loading this page with nbviewer.org.</b></div><div class=\"sk-container\" hidden><div class=\"sk-item\"><div class=\"sk-estimator sk-toggleable\"><input class=\"sk-toggleable__control sk-hidden--visually\" id=\"sk-estimator-id-4\" type=\"checkbox\" checked><label for=\"sk-estimator-id-4\" class=\"sk-toggleable__label sk-toggleable__label-arrow\">KNeighborsClassifier</label><div class=\"sk-toggleable__content\"><pre>KNeighborsClassifier(n_neighbors=3)</pre></div></div></div></div></div>"
      ],
      "text/plain": [
       "KNeighborsClassifier(n_neighbors=3)"
      ]
     },
     "execution_count": 80,
     "metadata": {},
     "output_type": "execute_result"
    }
   ],
   "source": [
    "model_4=KNeighborsClassifier(n_neighbors=3)\n",
    "model_4.fit(X_train_scaled,y_train)"
   ]
  },
  {
   "cell_type": "code",
   "execution_count": 81,
   "id": "cde9572a",
   "metadata": {},
   "outputs": [
    {
     "data": {
      "text/plain": [
       "0.9594964422550629"
      ]
     },
     "execution_count": 81,
     "metadata": {},
     "output_type": "execute_result"
    }
   ],
   "source": [
    "model_4.score(X_train_scaled,y_train)"
   ]
  },
  {
   "cell_type": "code",
   "execution_count": 82,
   "id": "ccbb8879",
   "metadata": {},
   "outputs": [
    {
     "data": {
      "text/plain": [
       "0.5120350109409191"
      ]
     },
     "execution_count": 82,
     "metadata": {},
     "output_type": "execute_result"
    }
   ],
   "source": [
    "model_4.score(x_test,y_test)"
   ]
  },
  {
   "cell_type": "code",
   "execution_count": 83,
   "id": "0183fa46",
   "metadata": {},
   "outputs": [
    {
     "name": "stdout",
     "output_type": "stream",
     "text": [
      "Confusion Matrix:\n",
      "[[  7 223]\n",
      " [  0 227]]\n"
     ]
    },
    {
     "data": {
      "image/png": "[encoded data removed]",
      "text/plain": [
       "<Figure size 500x500 with 2 Axes>"
      ]
     },
     "metadata": {},
     "output_type": "display_data"
    }
   ],
   "source": [
    "y_pred = model_4.predict(x_test)\n",
    "\n",
    "# Generate the confusion matrix\n",
    "cm = confusion_matrix(y_test, y_pred)\n",
    "\n",
    "print(\"Confusion Matrix:\")\n",
    "print(cm)\n",
    "plt.figure(figsize=(5, 5))\n",
    "sns.heatmap(cm, annot=True, cmap=\"Blues\")\n",
    "plt.xlabel('Predicted labels')\n",
    "plt.ylabel('True labels')\n",
    "plt.title('Confusion Matrix')\n",
    "plt.show()"
   ]
  },
  {
   "cell_type": "markdown",
   "id": "ed5a55e3",
   "metadata": {},
   "source": [
    "## <a id=\"61\">RandomForestClassifier</a>"
   ]
  },
  {
   "cell_type": "code",
   "execution_count": 84,
   "id": "b6518185",
   "metadata": {},
   "outputs": [
    {
     "data": {
      "text/html": [
       "<style>#sk-container-id-5 {color: black;background-color: white;}#sk-container-id-5 pre{padding: 0;}#sk-container-id-5 div.sk-toggleable {background-color: white;}#sk-container-id-5 label.sk-toggleable__label {cursor: pointer;display: block;width: 100%;margin-bottom: 0;padding: 0.3em;box-sizing: border-box;text-align: center;}#sk-container-id-5 label.sk-toggleable__label-arrow:before {content: \"▸\";float: left;margin-right: 0.25em;color: #696969;}#sk-container-id-5 label.sk-toggleable__label-arrow:hover:before {color: black;}#sk-container-id-5 div.sk-estimator:hover label.sk-toggleable__label-arrow:before {color: black;}#sk-container-id-5 div.sk-toggleable__content {max-height: 0;max-width: 0;overflow: hidden;text-align: left;background-color: #f0f8ff;}#sk-container-id-5 div.sk-toggleable__content pre {margin: 0.2em;color: black;border-radius: 0.25em;background-color: #f0f8ff;}#sk-container-id-5 input.sk-toggleable__control:checked~div.sk-toggleable__content {max-height: 200px;max-width: 100%;overflow: auto;}#sk-container-id-5 input.sk-toggleable__control:checked~label.sk-toggleable__label-arrow:before {content: \"▾\";}#sk-container-id-5 div.sk-estimator input.sk-toggleable__control:checked~label.sk-toggleable__label {background-color: #d4ebff;}#sk-container-id-5 div.sk-label input.sk-toggleable__control:checked~label.sk-toggleable__label {background-color: #d4ebff;}#sk-container-id-5 input.sk-hidden--visually {border: 0;clip: rect(1px 1px 1px 1px);clip: rect(1px, 1px, 1px, 1px);height: 1px;margin: -1px;overflow: hidden;padding: 0;position: absolute;width: 1px;}#sk-container-id-5 div.sk-estimator {font-family: monospace;background-color: #f0f8ff;border: 1px dotted black;border-radius: 0.25em;box-sizing: border-box;margin-bottom: 0.5em;}#sk-container-id-5 div.sk-estimator:hover {background-color: #d4ebff;}#sk-container-id-5 div.sk-parallel-item::after {content: \"\";width: 100%;border-bottom: 1px solid gray;flex-grow: 1;}#sk-container-id-5 div.sk-label:hover label.sk-toggleable__label {background-color: #d4ebff;}#sk-container-id-5 div.sk-serial::before {content: \"\";position: absolute;border-left: 1px solid gray;box-sizing: border-box;top: 0;bottom: 0;left: 50%;z-index: 0;}#sk-container-id-5 div.sk-serial {display: flex;flex-direction: column;align-items: center;background-color: white;padding-right: 0.2em;padding-left: 0.2em;position: relative;}#sk-container-id-5 div.sk-item {position: relative;z-index: 1;}#sk-container-id-5 div.sk-parallel {display: flex;align-items: stretch;justify-content: center;background-color: white;position: relative;}#sk-container-id-5 div.sk-item::before, #sk-container-id-5 div.sk-parallel-item::before {content: \"\";position: absolute;border-left: 1px solid gray;box-sizing: border-box;top: 0;bottom: 0;left: 50%;z-index: -1;}#sk-container-id-5 div.sk-parallel-item {display: flex;flex-direction: column;z-index: 1;position: relative;background-color: white;}#sk-container-id-5 div.sk-parallel-item:first-child::after {align-self: flex-end;width: 50%;}#sk-container-id-5 div.sk-parallel-item:last-child::after {align-self: flex-start;width: 50%;}#sk-container-id-5 div.sk-parallel-item:only-child::after {width: 0;}#sk-container-id-5 div.sk-dashed-wrapped {border: 1px dashed gray;margin: 0 0.4em 0.5em 0.4em;box-sizing: border-box;padding-bottom: 0.4em;background-color: white;}#sk-container-id-5 div.sk-label label {font-family: monospace;font-weight: bold;display: inline-block;line-height: 1.2em;}#sk-container-id-5 div.sk-label-container {text-align: center;}#sk-container-id-5 div.sk-container {/* jupyter's `normalize.less` sets `[hidden] { display: none; }` but bootstrap.min.css set `[hidden] { display: none !important; }` so we also need the `!important` here to be able to override the default hidden behavior on the sphinx rendered scikit-learn.org. See: https://github.com/scikit-learn/scikit-learn/issues/21755 */display: inline-block !important;position: relative;}#sk-container-id-5 div.sk-text-repr-fallback {display: none;}</style><div id=\"sk-container-id-5\" class=\"sk-top-container\"><div class=\"sk-text-repr-fallback\"><pre>RandomForestClassifier()</pre><b>In a Jupyter environment, please rerun this cell to show the HTML representation or trust the notebook. <br />On GitHub, the HTML representation is unable to render, please try loading this page with nbviewer.org.</b></div><div class=\"sk-container\" hidden><div class=\"sk-item\"><div class=\"sk-estimator sk-toggleable\"><input class=\"sk-toggleable__control sk-hidden--visually\" id=\"sk-estimator-id-5\" type=\"checkbox\" checked><label for=\"sk-estimator-id-5\" class=\"sk-toggleable__label sk-toggleable__label-arrow\">RandomForestClassifier</label><div class=\"sk-toggleable__content\"><pre>RandomForestClassifier()</pre></div></div></div></div></div>"
      ],
      "text/plain": [
       "RandomForestClassifier()"
      ]
     },
     "execution_count": 84,
     "metadata": {},
     "output_type": "execute_result"
    }
   ],
   "source": [
    "model_5 = RandomForestClassifier()\n",
    "model_5.fit(X_train_scaled,y_train)"
   ]
  },
  {
   "cell_type": "code",
   "execution_count": 85,
   "id": "298e5597",
   "metadata": {},
   "outputs": [
    {
     "data": {
      "text/plain": [
       "1.0"
      ]
     },
     "execution_count": 85,
     "metadata": {},
     "output_type": "execute_result"
    }
   ],
   "source": [
    "model_5.score(X_train_scaled,y_train)"
   ]
  },
  {
   "cell_type": "code",
   "execution_count": 86,
   "id": "671a3371",
   "metadata": {},
   "outputs": [
    {
     "data": {
      "text/plain": [
       "0.6652078774617067"
      ]
     },
     "execution_count": 86,
     "metadata": {},
     "output_type": "execute_result"
    }
   ],
   "source": [
    "model_5.score(x_test,y_test)"
   ]
  },
  {
   "cell_type": "code",
   "execution_count": 87,
   "id": "3862e890",
   "metadata": {},
   "outputs": [
    {
     "name": "stdout",
     "output_type": "stream",
     "text": [
      "Confusion Matrix:\n",
      "[[ 80 150]\n",
      " [  3 224]]\n"
     ]
    },
    {
     "data": {
      "image/png": "[encoded data removed]",
      "text/plain": [
       "<Figure size 500x500 with 2 Axes>"
      ]
     },
     "metadata": {},
     "output_type": "display_data"
    }
   ],
   "source": [
    "y_pred = model_5.predict(x_test)\n",
    "\n",
    "# Generate the confusion matrix\n",
    "cm = confusion_matrix(y_test, y_pred)\n",
    "\n",
    "print(\"Confusion Matrix:\")\n",
    "print(cm)\n",
    "plt.figure(figsize=(5, 5))\n",
    "sns.heatmap(cm, annot=True, cmap=\"Blues\")\n",
    "plt.xlabel('Predicted labels')\n",
    "plt.ylabel('True labels')\n",
    "plt.title('Confusion Matrix')\n",
    "plt.show()"
   ]
  },
  {
   "cell_type": "markdown",
   "id": "2610bb21",
   "metadata": {},
   "source": [
    "## <a id=\"61\">DecisionTreeClassifier</a>"
   ]
  },
  {
   "cell_type": "code",
   "execution_count": 88,
   "id": "73f97235",
   "metadata": {},
   "outputs": [
    {
     "data": {
      "text/html": [
       "<style>#sk-container-id-6 {color: black;background-color: white;}#sk-container-id-6 pre{padding: 0;}#sk-container-id-6 div.sk-toggleable {background-color: white;}#sk-container-id-6 label.sk-toggleable__label {cursor: pointer;display: block;width: 100%;margin-bottom: 0;padding: 0.3em;box-sizing: border-box;text-align: center;}#sk-container-id-6 label.sk-toggleable__label-arrow:before {content: \"▸\";float: left;margin-right: 0.25em;color: #696969;}#sk-container-id-6 label.sk-toggleable__label-arrow:hover:before {color: black;}#sk-container-id-6 div.sk-estimator:hover label.sk-toggleable__label-arrow:before {color: black;}#sk-container-id-6 div.sk-toggleable__content {max-height: 0;max-width: 0;overflow: hidden;text-align: left;background-color: #f0f8ff;}#sk-container-id-6 div.sk-toggleable__content pre {margin: 0.2em;color: black;border-radius: 0.25em;background-color: #f0f8ff;}#sk-container-id-6 input.sk-toggleable__control:checked~div.sk-toggleable__content {max-height: 200px;max-width: 100%;overflow: auto;}#sk-container-id-6 input.sk-toggleable__control:checked~label.sk-toggleable__label-arrow:before {content: \"▾\";}#sk-container-id-6 div.sk-estimator input.sk-toggleable__control:checked~label.sk-toggleable__label {background-color: #d4ebff;}#sk-container-id-6 div.sk-label input.sk-toggleable__control:checked~label.sk-toggleable__label {background-color: #d4ebff;}#sk-container-id-6 input.sk-hidden--visually {border: 0;clip: rect(1px 1px 1px 1px);clip: rect(1px, 1px, 1px, 1px);height: 1px;margin: -1px;overflow: hidden;padding: 0;position: absolute;width: 1px;}#sk-container-id-6 div.sk-estimator {font-family: monospace;background-color: #f0f8ff;border: 1px dotted black;border-radius: 0.25em;box-sizing: border-box;margin-bottom: 0.5em;}#sk-container-id-6 div.sk-estimator:hover {background-color: #d4ebff;}#sk-container-id-6 div.sk-parallel-item::after {content: \"\";width: 100%;border-bottom: 1px solid gray;flex-grow: 1;}#sk-container-id-6 div.sk-label:hover label.sk-toggleable__label {background-color: #d4ebff;}#sk-container-id-6 div.sk-serial::before {content: \"\";position: absolute;border-left: 1px solid gray;box-sizing: border-box;top: 0;bottom: 0;left: 50%;z-index: 0;}#sk-container-id-6 div.sk-serial {display: flex;flex-direction: column;align-items: center;background-color: white;padding-right: 0.2em;padding-left: 0.2em;position: relative;}#sk-container-id-6 div.sk-item {position: relative;z-index: 1;}#sk-container-id-6 div.sk-parallel {display: flex;align-items: stretch;justify-content: center;background-color: white;position: relative;}#sk-container-id-6 div.sk-item::before, #sk-container-id-6 div.sk-parallel-item::before {content: \"\";position: absolute;border-left: 1px solid gray;box-sizing: border-box;top: 0;bottom: 0;left: 50%;z-index: -1;}#sk-container-id-6 div.sk-parallel-item {display: flex;flex-direction: column;z-index: 1;position: relative;background-color: white;}#sk-container-id-6 div.sk-parallel-item:first-child::after {align-self: flex-end;width: 50%;}#sk-container-id-6 div.sk-parallel-item:last-child::after {align-self: flex-start;width: 50%;}#sk-container-id-6 div.sk-parallel-item:only-child::after {width: 0;}#sk-container-id-6 div.sk-dashed-wrapped {border: 1px dashed gray;margin: 0 0.4em 0.5em 0.4em;box-sizing: border-box;padding-bottom: 0.4em;background-color: white;}#sk-container-id-6 div.sk-label label {font-family: monospace;font-weight: bold;display: inline-block;line-height: 1.2em;}#sk-container-id-6 div.sk-label-container {text-align: center;}#sk-container-id-6 div.sk-container {/* jupyter's `normalize.less` sets `[hidden] { display: none; }` but bootstrap.min.css set `[hidden] { display: none !important; }` so we also need the `!important` here to be able to override the default hidden behavior on the sphinx rendered scikit-learn.org. See: https://github.com/scikit-learn/scikit-learn/issues/21755 */display: inline-block !important;position: relative;}#sk-container-id-6 div.sk-text-repr-fallback {display: none;}</style><div id=\"sk-container-id-6\" class=\"sk-top-container\"><div class=\"sk-text-repr-fallback\"><pre>DecisionTreeClassifier()</pre><b>In a Jupyter environment, please rerun this cell to show the HTML representation or trust the notebook. <br />On GitHub, the HTML representation is unable to render, please try loading this page with nbviewer.org.</b></div><div class=\"sk-container\" hidden><div class=\"sk-item\"><div class=\"sk-estimator sk-toggleable\"><input class=\"sk-toggleable__control sk-hidden--visually\" id=\"sk-estimator-id-6\" type=\"checkbox\" checked><label for=\"sk-estimator-id-6\" class=\"sk-toggleable__label sk-toggleable__label-arrow\">DecisionTreeClassifier</label><div class=\"sk-toggleable__content\"><pre>DecisionTreeClassifier()</pre></div></div></div></div></div>"
      ],
      "text/plain": [
       "DecisionTreeClassifier()"
      ]
     },
     "execution_count": 88,
     "metadata": {},
     "output_type": "execute_result"
    }
   ],
   "source": [
    "model_6=DecisionTreeClassifier()\n",
    "model_6.fit(X_train_scaled,y_train)"
   ]
  },
  {
   "cell_type": "code",
   "execution_count": 89,
   "id": "140da88a",
   "metadata": {},
   "outputs": [
    {
     "data": {
      "text/plain": [
       "1.0"
      ]
     },
     "execution_count": 89,
     "metadata": {},
     "output_type": "execute_result"
    }
   ],
   "source": [
    "model_6.score(X_train_scaled,y_train)"
   ]
  },
  {
   "cell_type": "code",
   "execution_count": 90,
   "id": "926e2546",
   "metadata": {},
   "outputs": [
    {
     "data": {
      "text/plain": [
       "0.49671772428884026"
      ]
     },
     "execution_count": 90,
     "metadata": {},
     "output_type": "execute_result"
    }
   ],
   "source": [
    "model_6.score(x_test,y_test)"
   ]
  },
  {
   "cell_type": "code",
   "execution_count": 91,
   "id": "e4218567",
   "metadata": {},
   "outputs": [
    {
     "name": "stdout",
     "output_type": "stream",
     "text": [
      "Confusion Matrix:\n",
      "[[  0 230]\n",
      " [  0 227]]\n"
     ]
    },
    {
     "data": {
      "image/png": "[encoded data removed]",
      "text/plain": [
       "<Figure size 500x500 with 2 Axes>"
      ]
     },
     "metadata": {},
     "output_type": "display_data"
    }
   ],
   "source": [
    "y_pred = model_6.predict(x_test)\n",
    "\n",
    "# Generate the confusion matrix\n",
    "cm = confusion_matrix(y_test, y_pred)\n",
    "\n",
    "print(\"Confusion Matrix:\")\n",
    "print(cm)\n",
    "plt.figure(figsize=(5, 5))\n",
    "sns.heatmap(cm, annot=True, cmap=\"Blues\")\n",
    "plt.xlabel('Predicted labels')\n",
    "plt.ylabel('True labels')\n",
    "plt.title('Confusion Matrix')\n",
    "plt.show()"
   ]
  },
  {
   "cell_type": "markdown",
   "id": "06581ab1",
   "metadata": {},
   "source": [
    "## <a id=\"61\">XGBoost</a>"
   ]
  },
  {
   "cell_type": "code",
   "execution_count": 92,
   "id": "817dc35d",
   "metadata": {},
   "outputs": [
    {
     "data": {
      "text/html": [
       "<style>#sk-container-id-7 {color: black;background-color: white;}#sk-container-id-7 pre{padding: 0;}#sk-container-id-7 div.sk-toggleable {background-color: white;}#sk-container-id-7 label.sk-toggleable__label {cursor: pointer;display: block;width: 100%;margin-bottom: 0;padding: 0.3em;box-sizing: border-box;text-align: center;}#sk-container-id-7 label.sk-toggleable__label-arrow:before {content: \"▸\";float: left;margin-right: 0.25em;color: #696969;}#sk-container-id-7 label.sk-toggleable__label-arrow:hover:before {color: black;}#sk-container-id-7 div.sk-estimator:hover label.sk-toggleable__label-arrow:before {color: black;}#sk-container-id-7 div.sk-toggleable__content {max-height: 0;max-width: 0;overflow: hidden;text-align: left;background-color: #f0f8ff;}#sk-container-id-7 div.sk-toggleable__content pre {margin: 0.2em;color: black;border-radius: 0.25em;background-color: #f0f8ff;}#sk-container-id-7 input.sk-toggleable__control:checked~div.sk-toggleable__content {max-height: 200px;max-width: 100%;overflow: auto;}#sk-container-id-7 input.sk-toggleable__control:checked~label.sk-toggleable__label-arrow:before {content: \"▾\";}#sk-container-id-7 div.sk-estimator input.sk-toggleable__control:checked~label.sk-toggleable__label {background-color: #d4ebff;}#sk-container-id-7 div.sk-label input.sk-toggleable__control:checked~label.sk-toggleable__label {background-color: #d4ebff;}#sk-container-id-7 input.sk-hidden--visually {border: 0;clip: rect(1px 1px 1px 1px);clip: rect(1px, 1px, 1px, 1px);height: 1px;margin: -1px;overflow: hidden;padding: 0;position: absolute;width: 1px;}#sk-container-id-7 div.sk-estimator {font-family: monospace;background-color: #f0f8ff;border: 1px dotted black;border-radius: 0.25em;box-sizing: border-box;margin-bottom: 0.5em;}#sk-container-id-7 div.sk-estimator:hover {background-color: #d4ebff;}#sk-container-id-7 div.sk-parallel-item::after {content: \"\";width: 100%;border-bottom: 1px solid gray;flex-grow: 1;}#sk-container-id-7 div.sk-label:hover label.sk-toggleable__label {background-color: #d4ebff;}#sk-container-id-7 div.sk-serial::before {content: \"\";position: absolute;border-left: 1px solid gray;box-sizing: border-box;top: 0;bottom: 0;left: 50%;z-index: 0;}#sk-container-id-7 div.sk-serial {display: flex;flex-direction: column;align-items: center;background-color: white;padding-right: 0.2em;padding-left: 0.2em;position: relative;}#sk-container-id-7 div.sk-item {position: relative;z-index: 1;}#sk-container-id-7 div.sk-parallel {display: flex;align-items: stretch;justify-content: center;background-color: white;position: relative;}#sk-container-id-7 div.sk-item::before, #sk-container-id-7 div.sk-parallel-item::before {content: \"\";position: absolute;border-left: 1px solid gray;box-sizing: border-box;top: 0;bottom: 0;left: 50%;z-index: -1;}#sk-container-id-7 div.sk-parallel-item {display: flex;flex-direction: column;z-index: 1;position: relative;background-color: white;}#sk-container-id-7 div.sk-parallel-item:first-child::after {align-self: flex-end;width: 50%;}#sk-container-id-7 div.sk-parallel-item:last-child::after {align-self: flex-start;width: 50%;}#sk-container-id-7 div.sk-parallel-item:only-child::after {width: 0;}#sk-container-id-7 div.sk-dashed-wrapped {border: 1px dashed gray;margin: 0 0.4em 0.5em 0.4em;box-sizing: border-box;padding-bottom: 0.4em;background-color: white;}#sk-container-id-7 div.sk-label label {font-family: monospace;font-weight: bold;display: inline-block;line-height: 1.2em;}#sk-container-id-7 div.sk-label-container {text-align: center;}#sk-container-id-7 div.sk-container {/* jupyter's `normalize.less` sets `[hidden] { display: none; }` but bootstrap.min.css set `[hidden] { display: none !important; }` so we also need the `!important` here to be able to override the default hidden behavior on the sphinx rendered scikit-learn.org. See: https://github.com/scikit-learn/scikit-learn/issues/21755 */display: inline-block !important;position: relative;}#sk-container-id-7 div.sk-text-repr-fallback {display: none;}</style><div id=\"sk-container-id-7\" class=\"sk-top-container\"><div class=\"sk-text-repr-fallback\"><pre>XGBClassifier(base_score=None, booster=None, callbacks=None,\n",
       "              colsample_bylevel=None, colsample_bynode=None,\n",
       "              colsample_bytree=None, early_stopping_rounds=None,\n",
       "              enable_categorical=False, eval_metric=None, feature_types=None,\n",
       "              gamma=None, gpu_id=None, grow_policy=None, importance_type=None,\n",
       "              interaction_constraints=None, learning_rate=None, max_bin=None,\n",
       "              max_cat_threshold=None, max_cat_to_onehot=None,\n",
       "              max_delta_step=None, max_depth=None, max_leaves=None,\n",
       "              min_child_weight=None, missing=nan, monotone_constraints=None,\n",
       "              n_estimators=100, n_jobs=None, num_parallel_tree=None,\n",
       "              predictor=None, random_state=None, ...)</pre><b>In a Jupyter environment, please rerun this cell to show the HTML representation or trust the notebook. <br />On GitHub, the HTML representation is unable to render, please try loading this page with nbviewer.org.</b></div><div class=\"sk-container\" hidden><div class=\"sk-item\"><div class=\"sk-estimator sk-toggleable\"><input class=\"sk-toggleable__control sk-hidden--visually\" id=\"sk-estimator-id-7\" type=\"checkbox\" checked><label for=\"sk-estimator-id-7\" class=\"sk-toggleable__label sk-toggleable__label-arrow\">XGBClassifier</label><div class=\"sk-toggleable__content\"><pre>XGBClassifier(base_score=None, booster=None, callbacks=None,\n",
       "              colsample_bylevel=None, colsample_bynode=None,\n",
       "              colsample_bytree=None, early_stopping_rounds=None,\n",
       "              enable_categorical=False, eval_metric=None, feature_types=None,\n",
       "              gamma=None, gpu_id=None, grow_policy=None, importance_type=None,\n",
       "              interaction_constraints=None, learning_rate=None, max_bin=None,\n",
       "              max_cat_threshold=None, max_cat_to_onehot=None,\n",
       "              max_delta_step=None, max_depth=None, max_leaves=None,\n",
       "              min_child_weight=None, missing=nan, monotone_constraints=None,\n",
       "              n_estimators=100, n_jobs=None, num_parallel_tree=None,\n",
       "              predictor=None, random_state=None, ...)</pre></div></div></div></div></div>"
      ],
      "text/plain": [
       "XGBClassifier(base_score=None, booster=None, callbacks=None,\n",
       "              colsample_bylevel=None, colsample_bynode=None,\n",
       "              colsample_bytree=None, early_stopping_rounds=None,\n",
       "              enable_categorical=False, eval_metric=None, feature_types=None,\n",
       "              gamma=None, gpu_id=None, grow_policy=None, importance_type=None,\n",
       "              interaction_constraints=None, learning_rate=None, max_bin=None,\n",
       "              max_cat_threshold=None, max_cat_to_onehot=None,\n",
       "              max_delta_step=None, max_depth=None, max_leaves=None,\n",
       "              min_child_weight=None, missing=nan, monotone_constraints=None,\n",
       "              n_estimators=100, n_jobs=None, num_parallel_tree=None,\n",
       "              predictor=None, random_state=None, ...)"
      ]
     },
     "execution_count": 92,
     "metadata": {},
     "output_type": "execute_result"
    }
   ],
   "source": [
    "model_7 = XGBClassifier()\n",
    "model_7.fit(X_train_scaled,y_train)"
   ]
  },
  {
   "cell_type": "code",
   "execution_count": 93,
   "id": "4ed73fcf",
   "metadata": {},
   "outputs": [
    {
     "data": {
      "text/plain": [
       "1.0"
      ]
     },
     "execution_count": 93,
     "metadata": {},
     "output_type": "execute_result"
    }
   ],
   "source": [
    "model_7.score(X_train_scaled,y_train)"
   ]
  },
  {
   "cell_type": "code",
   "execution_count": 94,
   "id": "fceac6a8",
   "metadata": {},
   "outputs": [
    {
     "data": {
      "text/plain": [
       "0.5032822757111597"
      ]
     },
     "execution_count": 94,
     "metadata": {},
     "output_type": "execute_result"
    }
   ],
   "source": [
    "model_7.score(x_test,y_test)"
   ]
  },
  {
   "cell_type": "code",
   "execution_count": 95,
   "id": "8eea98c7",
   "metadata": {},
   "outputs": [
    {
     "name": "stdout",
     "output_type": "stream",
     "text": [
      "Confusion Matrix:\n",
      "[[230   0]\n",
      " [227   0]]\n"
     ]
    },
    {
     "data": {
      "image/png": "[encoded data removed]",
      "text/plain": [
       "<Figure size 500x500 with 2 Axes>"
      ]
     },
     "metadata": {},
     "output_type": "display_data"
    }
   ],
   "source": [
    "y_pred = model_7.predict(x_test)\n",
    "\n",
    "# Generate the confusion matrix\n",
    "cm = confusion_matrix(y_test, y_pred)\n",
    "\n",
    "print(\"Confusion Matrix:\")\n",
    "print(cm)\n",
    "plt.figure(figsize=(5, 5))\n",
    "sns.heatmap(cm, annot=True, cmap=\"Blues\")\n",
    "plt.xlabel('Predicted labels')\n",
    "plt.ylabel('True labels')\n",
    "plt.title('Confusion Matrix')\n",
    "plt.show()"
   ]
  },
  {
   "cell_type": "code",
   "execution_count": 96,
   "id": "9182d931",
   "metadata": {},
   "outputs": [],
   "source": [
    "models = {\n",
    "    \"Logistic Regression\": LogisticRegression(),\n",
    "    \"KNN\": KNeighborsClassifier(),\n",
    "    \"Decision Tree\": DecisionTreeClassifier(),\n",
    "    \"Random Forest\": RandomForestClassifier(),\n",
    "    \"SVC\": SVC(),\n",
    "    \"Ada Boost\": AdaBoostClassifier(),\n",
    "    \"XGBoost\": XGBClassifier(),\n",
    "\n",
    "}"
   ]
  },
  {
   "cell_type": "code",
   "execution_count": 103,
   "id": "27d9c0a5",
   "metadata": {},
   "outputs": [
    {
     "name": "stdout",
     "output_type": "stream",
     "text": [
      "Training Model Logistic Regression \n",
      "--------------\n",
      "Training Accuracy: 0.9074986316365626\n",
      "Testing Accuracy: 0.8840262582056893\n",
      "Testing Confusion Matrix: \n",
      "[[180  50]\n",
      " [  3 224]]\n",
      "Recall Score :  0.8840262582056893\n",
      "Precision Score :  0.8840262582056893\n",
      "Testing F-1: 0.8840262582056893\n",
      "------------------------------\n",
      "Training Model KNN \n",
      "--------------\n",
      "Training Accuracy: 0.9436234263820471\n",
      "Testing Accuracy: 0.5076586433260394\n",
      "Testing Confusion Matrix: \n",
      "[[  5 225]\n",
      " [  0 227]]\n",
      "Recall Score :  0.5076586433260394\n",
      "Precision Score :  0.5076586433260394\n",
      "Testing F-1: 0.5076586433260394\n",
      "------------------------------\n",
      "Training Model Decision Tree \n",
      "--------------\n",
      "Training Accuracy: 1.0\n",
      "Testing Accuracy: 0.49671772428884026\n",
      "Testing Confusion Matrix: \n",
      "[[  0 230]\n",
      " [  0 227]]\n",
      "Recall Score :  0.49671772428884026\n",
      "Precision Score :  0.49671772428884026\n",
      "Testing F-1: 0.49671772428884026\n",
      "------------------------------\n",
      "Training Model Random Forest \n",
      "--------------\n",
      "Training Accuracy: 1.0\n",
      "Testing Accuracy: 0.6652078774617067\n",
      "Testing Confusion Matrix: \n",
      "[[ 80 150]\n",
      " [  3 224]]\n",
      "Recall Score :  0.6652078774617067\n",
      "Precision Score :  0.6652078774617067\n",
      "Testing F-1: 0.6652078774617067\n",
      "------------------------------\n",
      "Training Model SVC \n",
      "--------------\n",
      "Training Accuracy: 0.9490968801313628\n",
      "Testing Accuracy: 0.49671772428884026\n",
      "Testing Confusion Matrix: \n",
      "[[  0 230]\n",
      " [  0 227]]\n",
      "Recall Score :  0.49671772428884026\n",
      "Precision Score :  0.49671772428884026\n",
      "Testing F-1: 0.49671772428884026\n",
      "------------------------------\n",
      "Training Model Ada Boost \n",
      "--------------\n",
      "Training Accuracy: 0.9627805145046524\n",
      "Testing Accuracy: 0.5032822757111597\n",
      "Testing Confusion Matrix: \n",
      "[[230   0]\n",
      " [227   0]]\n",
      "Recall Score :  0.5032822757111597\n",
      "Precision Score :  0.5032822757111597\n",
      "Testing F-1: 0.5032822757111597\n",
      "------------------------------\n",
      "Training Model XGBoost \n",
      "--------------\n",
      "Training Accuracy: 1.0\n",
      "Testing Accuracy: 0.5032822757111597\n",
      "Testing Confusion Matrix: \n",
      "[[230   0]\n",
      " [227   0]]\n",
      "Recall Score :  0.5032822757111597\n",
      "Precision Score :  0.5032822757111597\n",
      "Testing F-1: 0.5032822757111597\n",
      "------------------------------\n"
     ]
    }
   ],
   "source": [
    "for name, model in models.items():\n",
    "    print(f'Training Model {name} \\n--------------')\n",
    "    model.fit(X_train_scaled, y_train)\n",
    "    y_pred = model.predict(x_test)\n",
    "    print(f'Training Accuracy: {accuracy_score(y_train, model.predict(X_train_scaled))}')\n",
    "    print(f'Testing Accuracy: {accuracy_score(y_test, y_pred)}')\n",
    "    print(f'Testing Confusion Matrix: \\n{confusion_matrix(y_test, y_pred)}')\n",
    "    print(\"Recall Score : \",recall_score(y_test, y_pred, pos_label='positive', average='micro'))    \n",
    "    print(\"Precision Score : \",precision_score(y_test, y_pred,  pos_label='positive',average='micro'))     \n",
    "    print(f\"Testing F-1:\", f1_score(y_test, y_pred, pos_label='positive', average='micro' )        )\n",
    "    print('-'*30)"
   ]
  },
  {
   "cell_type": "markdown",
   "id": "1c47488f",
   "metadata": {},
   "source": [
    "###### As we see the Logistic Regression   is the best algorithm with :\n",
    "\n",
    "Training accuracy : 90%    \n",
    "Testing accuracy : 88%        \n",
    ".......  As comparing to all algorithm  ......"
   ]
  },
  {
   "cell_type": "markdown",
   "id": "659e6f63",
   "metadata": {},
   "source": [
    "### Prediction for new data"
   ]
  },
  {
   "cell_type": "code",
   "execution_count": 98,
   "id": "34c5256f",
   "metadata": {},
   "outputs": [
    {
     "data": {
      "text/html": [
       "<div>\n",
       "<style scoped>\n",
       "    .dataframe tbody tr th:only-of-type {\n",
       "        vertical-align: middle;\n",
       "    }\n",
       "\n",
       "    .dataframe tbody tr th {\n",
       "        vertical-align: top;\n",
       "    }\n",
       "\n",
       "    .dataframe thead th {\n",
       "        text-align: right;\n",
       "    }\n",
       "</style>\n",
       "<table border=\"1\" class=\"dataframe\">\n",
       "  <thead>\n",
       "    <tr style=\"text-align: right;\">\n",
       "      <th></th>\n",
       "      <th>step</th>\n",
       "      <th>type</th>\n",
       "      <th>amount</th>\n",
       "      <th>nameOrig</th>\n",
       "      <th>oldbalanceOrg</th>\n",
       "      <th>newbalanceOrig</th>\n",
       "      <th>nameDest</th>\n",
       "      <th>isFraud</th>\n",
       "      <th>isFlaggedFraud</th>\n",
       "    </tr>\n",
       "  </thead>\n",
       "  <tbody>\n",
       "    <tr>\n",
       "      <th>855974</th>\n",
       "      <td>41.0</td>\n",
       "      <td>3</td>\n",
       "      <td>130038.2900</td>\n",
       "      <td>1349</td>\n",
       "      <td>310921.00</td>\n",
       "      <td>436499.975</td>\n",
       "      <td>420</td>\n",
       "      <td>0</td>\n",
       "      <td>0</td>\n",
       "    </tr>\n",
       "    <tr>\n",
       "      <th>695279</th>\n",
       "      <td>36.0</td>\n",
       "      <td>4</td>\n",
       "      <td>516181.0225</td>\n",
       "      <td>1273</td>\n",
       "      <td>24488.00</td>\n",
       "      <td>0.000</td>\n",
       "      <td>520</td>\n",
       "      <td>0</td>\n",
       "      <td>0</td>\n",
       "    </tr>\n",
       "    <tr>\n",
       "      <th>16215</th>\n",
       "      <td>8.0</td>\n",
       "      <td>2</td>\n",
       "      <td>11500.8800</td>\n",
       "      <td>1784</td>\n",
       "      <td>72434.18</td>\n",
       "      <td>60933.300</td>\n",
       "      <td>2228</td>\n",
       "      <td>0</td>\n",
       "      <td>0</td>\n",
       "    </tr>\n",
       "    <tr>\n",
       "      <th>1033902</th>\n",
       "      <td>75.0</td>\n",
       "      <td>2</td>\n",
       "      <td>5592.3000</td>\n",
       "      <td>1374</td>\n",
       "      <td>39910.00</td>\n",
       "      <td>34317.700</td>\n",
       "      <td>2070</td>\n",
       "      <td>0</td>\n",
       "      <td>0</td>\n",
       "    </tr>\n",
       "    <tr>\n",
       "      <th>240632</th>\n",
       "      <td>14.0</td>\n",
       "      <td>2</td>\n",
       "      <td>743.4500</td>\n",
       "      <td>354</td>\n",
       "      <td>0.00</td>\n",
       "      <td>0.000</td>\n",
       "      <td>2175</td>\n",
       "      <td>0</td>\n",
       "      <td>0</td>\n",
       "    </tr>\n",
       "    <tr>\n",
       "      <th>...</th>\n",
       "      <td>...</td>\n",
       "      <td>...</td>\n",
       "      <td>...</td>\n",
       "      <td>...</td>\n",
       "      <td>...</td>\n",
       "      <td>...</td>\n",
       "      <td>...</td>\n",
       "      <td>...</td>\n",
       "      <td>...</td>\n",
       "    </tr>\n",
       "    <tr>\n",
       "      <th>1047888</th>\n",
       "      <td>75.0</td>\n",
       "      <td>1</td>\n",
       "      <td>56745.1400</td>\n",
       "      <td>1738</td>\n",
       "      <td>56745.14</td>\n",
       "      <td>0.000</td>\n",
       "      <td>1661</td>\n",
       "      <td>1</td>\n",
       "      <td>0</td>\n",
       "    </tr>\n",
       "    <tr>\n",
       "      <th>1048221</th>\n",
       "      <td>75.0</td>\n",
       "      <td>4</td>\n",
       "      <td>33676.5900</td>\n",
       "      <td>1974</td>\n",
       "      <td>33676.59</td>\n",
       "      <td>0.000</td>\n",
       "      <td>151</td>\n",
       "      <td>1</td>\n",
       "      <td>0</td>\n",
       "    </tr>\n",
       "    <tr>\n",
       "      <th>1048222</th>\n",
       "      <td>75.0</td>\n",
       "      <td>1</td>\n",
       "      <td>33676.5900</td>\n",
       "      <td>0</td>\n",
       "      <td>33676.59</td>\n",
       "      <td>0.000</td>\n",
       "      <td>724</td>\n",
       "      <td>1</td>\n",
       "      <td>0</td>\n",
       "    </tr>\n",
       "    <tr>\n",
       "      <th>1048323</th>\n",
       "      <td>75.0</td>\n",
       "      <td>4</td>\n",
       "      <td>87999.2500</td>\n",
       "      <td>2198</td>\n",
       "      <td>87999.25</td>\n",
       "      <td>0.000</td>\n",
       "      <td>1629</td>\n",
       "      <td>1</td>\n",
       "      <td>0</td>\n",
       "    </tr>\n",
       "    <tr>\n",
       "      <th>1048324</th>\n",
       "      <td>75.0</td>\n",
       "      <td>1</td>\n",
       "      <td>87999.2500</td>\n",
       "      <td>1576</td>\n",
       "      <td>87999.25</td>\n",
       "      <td>0.000</td>\n",
       "      <td>790</td>\n",
       "      <td>1</td>\n",
       "      <td>0</td>\n",
       "    </tr>\n",
       "  </tbody>\n",
       "</table>\n",
       "<p>2284 rows × 9 columns</p>\n",
       "</div>"
      ],
      "text/plain": [
       "         step  type       amount  nameOrig  oldbalanceOrg  newbalanceOrig  \\\n",
       "855974   41.0     3  130038.2900      1349      310921.00      436499.975   \n",
       "695279   36.0     4  516181.0225      1273       24488.00           0.000   \n",
       "16215     8.0     2   11500.8800      1784       72434.18       60933.300   \n",
       "1033902  75.0     2    5592.3000      1374       39910.00       34317.700   \n",
       "240632   14.0     2     743.4500       354           0.00           0.000   \n",
       "...       ...   ...          ...       ...            ...             ...   \n",
       "1047888  75.0     1   56745.1400      1738       56745.14           0.000   \n",
       "1048221  75.0     4   33676.5900      1974       33676.59           0.000   \n",
       "1048222  75.0     1   33676.5900         0       33676.59           0.000   \n",
       "1048323  75.0     4   87999.2500      2198       87999.25           0.000   \n",
       "1048324  75.0     1   87999.2500      1576       87999.25           0.000   \n",
       "\n",
       "         nameDest  isFraud  isFlaggedFraud  \n",
       "855974        420        0               0  \n",
       "695279        520        0               0  \n",
       "16215        2228        0               0  \n",
       "1033902      2070        0               0  \n",
       "240632       2175        0               0  \n",
       "...           ...      ...             ...  \n",
       "1047888      1661        1               0  \n",
       "1048221       151        1               0  \n",
       "1048222       724        1               0  \n",
       "1048323      1629        1               0  \n",
       "1048324       790        1               0  \n",
       "\n",
       "[2284 rows x 9 columns]"
      ]
     },
     "execution_count": 98,
     "metadata": {},
     "output_type": "execute_result"
    }
   ],
   "source": [
    "df"
   ]
  },
  {
   "cell_type": "code",
   "execution_count": 99,
   "id": "1bfd0884",
   "metadata": {
    "scrolled": true
   },
   "outputs": [
    {
     "name": "stdout",
     "output_type": "stream",
     "text": [
      "Not Fraudulent Transaction\n"
     ]
    }
   ],
   "source": [
    "# Example data point for a potential Not fraudulent transaction\n",
    "prediction = np.array([[9,2,4220.57,691,143731.00,142369.28,2033,0]])\n",
    "\n",
    "# Preprocess and scale the data point using the same scaler\n",
    "predict_scaled = scaler.transform(prediction)\n",
    "\n",
    "# Make the prediction\n",
    "predicting_values = model.predict(predict_scaled)[0]\n",
    "\n",
    "# Check if it is fraud or not\n",
    "if predicting_values == 1:\n",
    "    print(\"Fraudulent Transaction\")\n",
    "else:\n",
    "    print(\"Not Fraudulent Transaction\")"
   ]
  },
  {
   "cell_type": "code",
   "execution_count": 100,
   "id": "e9b1af23",
   "metadata": {},
   "outputs": [
    {
     "name": "stdout",
     "output_type": "stream",
     "text": [
      "Fraudulent Transaction\n"
     ]
    }
   ],
   "source": [
    "# Example data point for a potential fraudulent transaction\n",
    "prediction = np.array([[95,1,56745.14,1708,56745.14,0.00,1649,0]])\n",
    "\n",
    "# Preprocess and scale the data point using the same scaler\n",
    "predict_scaled = scaler.transform(prediction)\n",
    "\n",
    "# Make the prediction\n",
    "predicting_values = model.predict(predict_scaled)[0]\n",
    "\n",
    "# Check if it is fraud or not\n",
    "if predicting_values == 1:\n",
    "    print(\"Fraudulent Transaction\")\n",
    "else:\n",
    "    print(\"Not Fraudulent Transaction\")"
   ]
  },
  {
   "cell_type": "code",
   "execution_count": 101,
   "id": "939a5a6c",
   "metadata": {},
   "outputs": [],
   "source": [
    "from joblib import dump"
   ]
  },
  {
   "cell_type": "code",
   "execution_count": 102,
   "id": "1d7ae5ea",
   "metadata": {},
   "outputs": [
    {
     "data": {
      "text/plain": [
       "['./../savedModels/Online payment fraud detection(capstone)-Copy1.joblib']"
      ]
     },
     "execution_count": 102,
     "metadata": {},
     "output_type": "execute_result"
    }
   ],
   "source": [
    "dump(model_3, './../savedModels/Online payment fraud detection(capstone)-Copy1.joblib')"
   ]
  },
  {
   "cell_type": "markdown",
   "id": "ae55ed0a",
   "metadata": {},
   "source": [
    "### In this Dataset isFraud is an dependent varaiable we can see isfraud contains 0's and 1's.\n",
    "###### which means 0 is Known as Not Fraudulent Transaction and 1 is known as Fraudulent Transaction"
   ]
  },
  {
   "cell_type": "markdown",
   "id": "5a40534a",
   "metadata": {},
   "source": [
    "## CONCLUSION:\n",
    "\n",
    "1. Dataset Overview: The dataset contains 6,362,620 rows and 11 columns. Each row represents a transaction, and the columns represent various attributes of the transactions, such as time, transaction type, transaction amount, customer information, and recipient information. The target variable is `isFraud`, which indicates whether a transaction is fraudulent (1) or not (0).\n",
    "\n",
    "2. Features: The dataset includes features such as `step`, `type`, `amount`, `nameOrig`, `oldbalanceOrg`, `newbalanceOrig`, `nameDest`, `oldbalanceDest`, `newbalanceDest`, `isFraud`, and `isFlaggedFraud`.\n",
    "\n",
    "3. Target Variable: The primary task is to predict whether a transaction is fraudulent (`isFraud` = 1) or not (`isFraud` = 0). This is a binary classification problem.\n",
    "\n",
    "4. Fraud Detection: The goal is to develop a machine learning model that can effectively detect fraudulent transactions to prevent financial losses and protect customers and businesses.\n",
    "\n",
    "5. Best Algorithm: According to the inference made from the provided code, the Random Forest classifier achieved the highest AUC score among all the classifiers evaluated. A higher AUC score indicates better performance in distinguishing between fraudulent and non-fraudulent transactions. Therefore, it can be concluded that the Random Forest algorithm is the best-performing model for this specific dataset and task of online payment fraud detection.\n",
    "\n",
    "###### However, it's important to note that the choice of the \"best\" algorithm may depend on various factors, including data size, data quality, feature engineering, and specific performance metrics. Therefore, it's always recommended to perform thorough model evaluation and hyperparameter tuning to ensure the most suitable algorithm for a given problem. Additionally, you may want to explore other machine learning algorithms and techniques to further improve the model's performance."
   ]
  }
 ],
 "metadata": {
  "kernelspec": {
   "display_name": "Python 3 (ipykernel)",
   "language": "python",
   "name": "python3"
  },
  "language_info": {
   "codemirror_mode": {
    "name": "ipython",
    "version": 3
   },
   "file_extension": ".py",
   "mimetype": "text/x-python",
   "name": "python",
   "nbconvert_exporter": "python",
   "pygments_lexer": "ipython3",
   "version": "3.10.9"
  }
 },
 "nbformat": 4,
 "nbformat_minor": 5
}
